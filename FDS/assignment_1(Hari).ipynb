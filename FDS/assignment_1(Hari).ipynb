{
  "cells": [
    {
      "cell_type": "markdown",
      "metadata": {
        "id": "view-in-github",
        "colab_type": "text"
      },
      "source": [
        "<a href=\"https://colab.research.google.com/github/harikrishna0007/Hari_Data690/blob/main/FDS/assignment_1(Hari).ipynb\" target=\"_parent\"><img src=\"https://colab.research.google.com/assets/colab-badge.svg\" alt=\"Open In Colab\"/></a>"
      ]
    },
    {
      "cell_type": "markdown",
      "metadata": {
        "id": "tS03EMmZBQ7C"
      },
      "source": [
        "# Assignment-1\n",
        "\n",
        "Due on September, 27.\n"
      ]
    },
    {
      "cell_type": "markdown",
      "metadata": {
        "id": "S6ql2aRyBQ7E"
      },
      "source": [
        "This exercise will require you to pull some data from the `yahoo finance`. Yahoo finance is currently the one of most widely used API of financial market data."
      ]
    },
    {
      "cell_type": "markdown",
      "metadata": {
        "id": "BheRTFnABQ7E"
      },
      "source": [
        "Yahoo finance has a large number of data sources, but, you restrict your attention to the extraction of the stock price."
      ]
    },
    {
      "cell_type": "markdown",
      "metadata": {
        "id": "EDRXhBlKBQ7E"
      },
      "source": [
        "For this assignment, we will focus on Apple and Microsoft stock prices data from the S&P-500, a stock market index tracking the performance of 500 large companies listed on stock exchanges in the United States. You'll analyze these stock prices. These company are listed under the stock ticker `aapl` and `msft`."
      ]
    },
    {
      "cell_type": "markdown",
      "metadata": {
        "id": "ZHQaXCYtBQ7E"
      },
      "source": [
        "These are your tasks for this mini project:\n",
        "\n",
        "1. Collect daily closing price stock price of Apple and Microsoft covering the period of 2020-01-01 - 2021-01-01 (keep in mind that the date format is YYYY-MM-DD). (15 pts)\n",
        "2. Draw the line plot for the stock prices and interpret the stock price movement, if there is any. (15 pts)\n",
        "3. Calculate stock return of Apple and Microsoft in this period. (15 pts)\n",
        "4. What is the largest return of these companies during this period? (15 pts)\n",
        "5. Draw the histogram of the returns and interpret the distributions you obtained. (15 pts)\n",
        "6. Use QQ plot and see if the stock returns follow normal distribution. (15 pts)\n",
        "7. Calculate the correlation coefficient between these stock returns and interpret. (10 pts)\n",
        "\n"
      ]
    },
    {
      "cell_type": "code",
      "execution_count": 4,
      "metadata": {
        "id": "cL3GtRWWBQ7F"
      },
      "outputs": [],
      "source": [
        "# answers here\n",
        "\n",
        "# import libraries to visulize and analyse data\n",
        "\n",
        "import numpy as np\n",
        "import matplotlib.pyplot as plt #used for visalize the data\n",
        "import seaborn as sns\n",
        "from scipy.stats import norm\n",
        "import math"
      ]
    },
    {
      "cell_type": "code",
      "source": [
        "# installing yahoo finance data using pip from yahoo.com\n",
        "!pip install yfinance"
      ],
      "metadata": {
        "colab": {
          "base_uri": "https://localhost:8080/"
        },
        "id": "IN8taAfuDyZw",
        "outputId": "136f8bfd-1fbd-479b-f23d-bad6f0b976b9"
      },
      "execution_count": 5,
      "outputs": [
        {
          "output_type": "stream",
          "name": "stdout",
          "text": [
            "Looking in indexes: https://pypi.org/simple, https://us-python.pkg.dev/colab-wheels/public/simple/\n",
            "Collecting yfinance\n",
            "  Downloading yfinance-0.1.74-py2.py3-none-any.whl (27 kB)\n",
            "Requirement already satisfied: lxml>=4.5.1 in /usr/local/lib/python3.7/dist-packages (from yfinance) (4.9.1)\n",
            "Requirement already satisfied: numpy>=1.15 in /usr/local/lib/python3.7/dist-packages (from yfinance) (1.21.6)\n",
            "Collecting requests>=2.26\n",
            "  Downloading requests-2.28.1-py3-none-any.whl (62 kB)\n",
            "\u001b[K     |████████████████████████████████| 62 kB 1.2 MB/s \n",
            "\u001b[?25hRequirement already satisfied: pandas>=0.24.0 in /usr/local/lib/python3.7/dist-packages (from yfinance) (1.3.5)\n",
            "Requirement already satisfied: multitasking>=0.0.7 in /usr/local/lib/python3.7/dist-packages (from yfinance) (0.0.11)\n",
            "Requirement already satisfied: pytz>=2017.3 in /usr/local/lib/python3.7/dist-packages (from pandas>=0.24.0->yfinance) (2022.2.1)\n",
            "Requirement already satisfied: python-dateutil>=2.7.3 in /usr/local/lib/python3.7/dist-packages (from pandas>=0.24.0->yfinance) (2.8.2)\n",
            "Requirement already satisfied: six>=1.5 in /usr/local/lib/python3.7/dist-packages (from python-dateutil>=2.7.3->pandas>=0.24.0->yfinance) (1.15.0)\n",
            "Requirement already satisfied: urllib3<1.27,>=1.21.1 in /usr/local/lib/python3.7/dist-packages (from requests>=2.26->yfinance) (1.24.3)\n",
            "Requirement already satisfied: certifi>=2017.4.17 in /usr/local/lib/python3.7/dist-packages (from requests>=2.26->yfinance) (2022.6.15)\n",
            "Requirement already satisfied: idna<4,>=2.5 in /usr/local/lib/python3.7/dist-packages (from requests>=2.26->yfinance) (2.10)\n",
            "Requirement already satisfied: charset-normalizer<3,>=2 in /usr/local/lib/python3.7/dist-packages (from requests>=2.26->yfinance) (2.1.1)\n",
            "Installing collected packages: requests, yfinance\n",
            "  Attempting uninstall: requests\n",
            "    Found existing installation: requests 2.23.0\n",
            "    Uninstalling requests-2.23.0:\n",
            "      Successfully uninstalled requests-2.23.0\n",
            "Successfully installed requests-2.28.1 yfinance-0.1.74\n"
          ]
        }
      ]
    },
    {
      "cell_type": "code",
      "source": [
        "#Task 1\n",
        "#importing yahoo data \n",
        "import yfinance as yfin"
      ],
      "metadata": {
        "id": "aJEuHOesEY9R"
      },
      "execution_count": 15,
      "outputs": []
    },
    {
      "cell_type": "code",
      "source": [
        "# Downloading Apple & Microsoft and spy data from yahoo finance between 2020 - 2021\n",
        "data = yfin.download(tickers = \"spy,aapl,msft\", start=\"2020-01-01\", end=\"2021-01-01\", interval = \"1d\")\n",
        "data.head()"
      ],
      "metadata": {
        "colab": {
          "base_uri": "https://localhost:8080/",
          "height": 438
        },
        "id": "vKYurTgQF75V",
        "outputId": "375908c6-14e2-4193-b930-4259ba2afffa"
      },
      "execution_count": 17,
      "outputs": [
        {
          "output_type": "stream",
          "name": "stdout",
          "text": [
            "[*********************100%***********************]  3 of 3 completed\n"
          ]
        },
        {
          "output_type": "execute_result",
          "data": {
            "text/plain": [
              "            Adj Close                              Close              \\\n",
              "                 AAPL        MSFT         SPY       AAPL        MSFT   \n",
              "Date                                                                   \n",
              "2020-01-02  73.683578  156.592010  311.117035  75.087502  160.619995   \n",
              "2020-01-03  72.967224  154.642166  308.761169  74.357498  158.619995   \n",
              "2020-01-06  73.548630  155.041885  309.939056  74.949997  159.029999   \n",
              "2020-01-07  73.202728  153.628250  309.067657  74.597504  157.580002   \n",
              "2020-01-08  74.380287  156.075317  310.714813  75.797501  160.089996   \n",
              "\n",
              "                             High                                Low  \\\n",
              "                   SPY       AAPL        MSFT         SPY       AAPL   \n",
              "Date                                                                   \n",
              "2020-01-02  324.869995  75.150002  160.729996  324.890015  73.797501   \n",
              "2020-01-03  322.410004  75.144997  159.949997  323.640015  74.125000   \n",
              "2020-01-06  323.640015  74.989998  159.100006  323.730011  73.187500   \n",
              "2020-01-07  322.730011  75.224998  159.669998  323.540009  74.370003   \n",
              "2020-01-08  324.450012  76.110001  160.800003  325.779999  74.290001   \n",
              "\n",
              "                                         Open                          \\\n",
              "                  MSFT         SPY       AAPL        MSFT         SPY   \n",
              "Date                                                                    \n",
              "2020-01-02  158.330002  322.529999  74.059998  158.779999  323.540009   \n",
              "2020-01-03  158.059998  321.100006  74.287498  158.320007  321.160004   \n",
              "2020-01-06  156.509995  320.359985  73.447502  157.080002  320.489990   \n",
              "2020-01-07  157.320007  322.239990  74.959999  159.320007  323.019989   \n",
              "2020-01-08  157.949997  322.670013  74.290001  158.929993  322.940002   \n",
              "\n",
              "               Volume                      \n",
              "                 AAPL      MSFT       SPY  \n",
              "Date                                       \n",
              "2020-01-02  135480400  22622100  59151200  \n",
              "2020-01-03  146322800  21116200  77709700  \n",
              "2020-01-06  118387200  20813700  55653900  \n",
              "2020-01-07  108872000  21634100  40496400  \n",
              "2020-01-08  132079200  27746500  68296000  "
            ],
            "text/html": [
              "\n",
              "  <div id=\"df-974ee9fc-fae8-46e3-b772-bb0cc4b271b5\">\n",
              "    <div class=\"colab-df-container\">\n",
              "      <div>\n",
              "<style scoped>\n",
              "    .dataframe tbody tr th:only-of-type {\n",
              "        vertical-align: middle;\n",
              "    }\n",
              "\n",
              "    .dataframe tbody tr th {\n",
              "        vertical-align: top;\n",
              "    }\n",
              "\n",
              "    .dataframe thead tr th {\n",
              "        text-align: left;\n",
              "    }\n",
              "\n",
              "    .dataframe thead tr:last-of-type th {\n",
              "        text-align: right;\n",
              "    }\n",
              "</style>\n",
              "<table border=\"1\" class=\"dataframe\">\n",
              "  <thead>\n",
              "    <tr>\n",
              "      <th></th>\n",
              "      <th colspan=\"3\" halign=\"left\">Adj Close</th>\n",
              "      <th colspan=\"3\" halign=\"left\">Close</th>\n",
              "      <th colspan=\"3\" halign=\"left\">High</th>\n",
              "      <th colspan=\"3\" halign=\"left\">Low</th>\n",
              "      <th colspan=\"3\" halign=\"left\">Open</th>\n",
              "      <th colspan=\"3\" halign=\"left\">Volume</th>\n",
              "    </tr>\n",
              "    <tr>\n",
              "      <th></th>\n",
              "      <th>AAPL</th>\n",
              "      <th>MSFT</th>\n",
              "      <th>SPY</th>\n",
              "      <th>AAPL</th>\n",
              "      <th>MSFT</th>\n",
              "      <th>SPY</th>\n",
              "      <th>AAPL</th>\n",
              "      <th>MSFT</th>\n",
              "      <th>SPY</th>\n",
              "      <th>AAPL</th>\n",
              "      <th>MSFT</th>\n",
              "      <th>SPY</th>\n",
              "      <th>AAPL</th>\n",
              "      <th>MSFT</th>\n",
              "      <th>SPY</th>\n",
              "      <th>AAPL</th>\n",
              "      <th>MSFT</th>\n",
              "      <th>SPY</th>\n",
              "    </tr>\n",
              "    <tr>\n",
              "      <th>Date</th>\n",
              "      <th></th>\n",
              "      <th></th>\n",
              "      <th></th>\n",
              "      <th></th>\n",
              "      <th></th>\n",
              "      <th></th>\n",
              "      <th></th>\n",
              "      <th></th>\n",
              "      <th></th>\n",
              "      <th></th>\n",
              "      <th></th>\n",
              "      <th></th>\n",
              "      <th></th>\n",
              "      <th></th>\n",
              "      <th></th>\n",
              "      <th></th>\n",
              "      <th></th>\n",
              "      <th></th>\n",
              "    </tr>\n",
              "  </thead>\n",
              "  <tbody>\n",
              "    <tr>\n",
              "      <th>2020-01-02</th>\n",
              "      <td>73.683578</td>\n",
              "      <td>156.592010</td>\n",
              "      <td>311.117035</td>\n",
              "      <td>75.087502</td>\n",
              "      <td>160.619995</td>\n",
              "      <td>324.869995</td>\n",
              "      <td>75.150002</td>\n",
              "      <td>160.729996</td>\n",
              "      <td>324.890015</td>\n",
              "      <td>73.797501</td>\n",
              "      <td>158.330002</td>\n",
              "      <td>322.529999</td>\n",
              "      <td>74.059998</td>\n",
              "      <td>158.779999</td>\n",
              "      <td>323.540009</td>\n",
              "      <td>135480400</td>\n",
              "      <td>22622100</td>\n",
              "      <td>59151200</td>\n",
              "    </tr>\n",
              "    <tr>\n",
              "      <th>2020-01-03</th>\n",
              "      <td>72.967224</td>\n",
              "      <td>154.642166</td>\n",
              "      <td>308.761169</td>\n",
              "      <td>74.357498</td>\n",
              "      <td>158.619995</td>\n",
              "      <td>322.410004</td>\n",
              "      <td>75.144997</td>\n",
              "      <td>159.949997</td>\n",
              "      <td>323.640015</td>\n",
              "      <td>74.125000</td>\n",
              "      <td>158.059998</td>\n",
              "      <td>321.100006</td>\n",
              "      <td>74.287498</td>\n",
              "      <td>158.320007</td>\n",
              "      <td>321.160004</td>\n",
              "      <td>146322800</td>\n",
              "      <td>21116200</td>\n",
              "      <td>77709700</td>\n",
              "    </tr>\n",
              "    <tr>\n",
              "      <th>2020-01-06</th>\n",
              "      <td>73.548630</td>\n",
              "      <td>155.041885</td>\n",
              "      <td>309.939056</td>\n",
              "      <td>74.949997</td>\n",
              "      <td>159.029999</td>\n",
              "      <td>323.640015</td>\n",
              "      <td>74.989998</td>\n",
              "      <td>159.100006</td>\n",
              "      <td>323.730011</td>\n",
              "      <td>73.187500</td>\n",
              "      <td>156.509995</td>\n",
              "      <td>320.359985</td>\n",
              "      <td>73.447502</td>\n",
              "      <td>157.080002</td>\n",
              "      <td>320.489990</td>\n",
              "      <td>118387200</td>\n",
              "      <td>20813700</td>\n",
              "      <td>55653900</td>\n",
              "    </tr>\n",
              "    <tr>\n",
              "      <th>2020-01-07</th>\n",
              "      <td>73.202728</td>\n",
              "      <td>153.628250</td>\n",
              "      <td>309.067657</td>\n",
              "      <td>74.597504</td>\n",
              "      <td>157.580002</td>\n",
              "      <td>322.730011</td>\n",
              "      <td>75.224998</td>\n",
              "      <td>159.669998</td>\n",
              "      <td>323.540009</td>\n",
              "      <td>74.370003</td>\n",
              "      <td>157.320007</td>\n",
              "      <td>322.239990</td>\n",
              "      <td>74.959999</td>\n",
              "      <td>159.320007</td>\n",
              "      <td>323.019989</td>\n",
              "      <td>108872000</td>\n",
              "      <td>21634100</td>\n",
              "      <td>40496400</td>\n",
              "    </tr>\n",
              "    <tr>\n",
              "      <th>2020-01-08</th>\n",
              "      <td>74.380287</td>\n",
              "      <td>156.075317</td>\n",
              "      <td>310.714813</td>\n",
              "      <td>75.797501</td>\n",
              "      <td>160.089996</td>\n",
              "      <td>324.450012</td>\n",
              "      <td>76.110001</td>\n",
              "      <td>160.800003</td>\n",
              "      <td>325.779999</td>\n",
              "      <td>74.290001</td>\n",
              "      <td>157.949997</td>\n",
              "      <td>322.670013</td>\n",
              "      <td>74.290001</td>\n",
              "      <td>158.929993</td>\n",
              "      <td>322.940002</td>\n",
              "      <td>132079200</td>\n",
              "      <td>27746500</td>\n",
              "      <td>68296000</td>\n",
              "    </tr>\n",
              "  </tbody>\n",
              "</table>\n",
              "</div>\n",
              "      <button class=\"colab-df-convert\" onclick=\"convertToInteractive('df-974ee9fc-fae8-46e3-b772-bb0cc4b271b5')\"\n",
              "              title=\"Convert this dataframe to an interactive table.\"\n",
              "              style=\"display:none;\">\n",
              "        \n",
              "  <svg xmlns=\"http://www.w3.org/2000/svg\" height=\"24px\"viewBox=\"0 0 24 24\"\n",
              "       width=\"24px\">\n",
              "    <path d=\"M0 0h24v24H0V0z\" fill=\"none\"/>\n",
              "    <path d=\"M18.56 5.44l.94 2.06.94-2.06 2.06-.94-2.06-.94-.94-2.06-.94 2.06-2.06.94zm-11 1L8.5 8.5l.94-2.06 2.06-.94-2.06-.94L8.5 2.5l-.94 2.06-2.06.94zm10 10l.94 2.06.94-2.06 2.06-.94-2.06-.94-.94-2.06-.94 2.06-2.06.94z\"/><path d=\"M17.41 7.96l-1.37-1.37c-.4-.4-.92-.59-1.43-.59-.52 0-1.04.2-1.43.59L10.3 9.45l-7.72 7.72c-.78.78-.78 2.05 0 2.83L4 21.41c.39.39.9.59 1.41.59.51 0 1.02-.2 1.41-.59l7.78-7.78 2.81-2.81c.8-.78.8-2.07 0-2.86zM5.41 20L4 18.59l7.72-7.72 1.47 1.35L5.41 20z\"/>\n",
              "  </svg>\n",
              "      </button>\n",
              "      \n",
              "  <style>\n",
              "    .colab-df-container {\n",
              "      display:flex;\n",
              "      flex-wrap:wrap;\n",
              "      gap: 12px;\n",
              "    }\n",
              "\n",
              "    .colab-df-convert {\n",
              "      background-color: #E8F0FE;\n",
              "      border: none;\n",
              "      border-radius: 50%;\n",
              "      cursor: pointer;\n",
              "      display: none;\n",
              "      fill: #1967D2;\n",
              "      height: 32px;\n",
              "      padding: 0 0 0 0;\n",
              "      width: 32px;\n",
              "    }\n",
              "\n",
              "    .colab-df-convert:hover {\n",
              "      background-color: #E2EBFA;\n",
              "      box-shadow: 0px 1px 2px rgba(60, 64, 67, 0.3), 0px 1px 3px 1px rgba(60, 64, 67, 0.15);\n",
              "      fill: #174EA6;\n",
              "    }\n",
              "\n",
              "    [theme=dark] .colab-df-convert {\n",
              "      background-color: #3B4455;\n",
              "      fill: #D2E3FC;\n",
              "    }\n",
              "\n",
              "    [theme=dark] .colab-df-convert:hover {\n",
              "      background-color: #434B5C;\n",
              "      box-shadow: 0px 1px 3px 1px rgba(0, 0, 0, 0.15);\n",
              "      filter: drop-shadow(0px 1px 2px rgba(0, 0, 0, 0.3));\n",
              "      fill: #FFFFFF;\n",
              "    }\n",
              "  </style>\n",
              "\n",
              "      <script>\n",
              "        const buttonEl =\n",
              "          document.querySelector('#df-974ee9fc-fae8-46e3-b772-bb0cc4b271b5 button.colab-df-convert');\n",
              "        buttonEl.style.display =\n",
              "          google.colab.kernel.accessAllowed ? 'block' : 'none';\n",
              "\n",
              "        async function convertToInteractive(key) {\n",
              "          const element = document.querySelector('#df-974ee9fc-fae8-46e3-b772-bb0cc4b271b5');\n",
              "          const dataTable =\n",
              "            await google.colab.kernel.invokeFunction('convertToInteractive',\n",
              "                                                     [key], {});\n",
              "          if (!dataTable) return;\n",
              "\n",
              "          const docLinkHtml = 'Like what you see? Visit the ' +\n",
              "            '<a target=\"_blank\" href=https://colab.research.google.com/notebooks/data_table.ipynb>data table notebook</a>'\n",
              "            + ' to learn more about interactive tables.';\n",
              "          element.innerHTML = '';\n",
              "          dataTable['output_type'] = 'display_data';\n",
              "          await google.colab.output.renderOutput(dataTable, element);\n",
              "          const docLink = document.createElement('div');\n",
              "          docLink.innerHTML = docLinkHtml;\n",
              "          element.appendChild(docLink);\n",
              "        }\n",
              "      </script>\n",
              "    </div>\n",
              "  </div>\n",
              "  "
            ]
          },
          "metadata": {},
          "execution_count": 17
        }
      ]
    },
    {
      "cell_type": "code",
      "source": [
        "#Drawing the line plot for the stock prices and interpretation\n",
        "#green color indicates s&p-500\n",
        "#orange color graph indicates apple\n",
        "#Blue color graph indicates microsoft\n",
        "closestock = data.Close\n",
        "plt.figure(figsize=(12,6), dpi = 120)\n",
        "plt.title('S&p-500, Apple and Microsoft closing stocks')\n",
        "plt.ylabel('In Dollars')\n",
        "plt.xlabel('Time Period')\n",
        "plt.plot(closestock)\n",
        "plt.show()"
      ],
      "metadata": {
        "colab": {
          "base_uri": "https://localhost:8080/",
          "height": 663
        },
        "id": "fzs7XJaLG7oy",
        "outputId": "cc18a11f-d8e5-4496-f920-3d1ee8c8f655"
      },
      "execution_count": 27,
      "outputs": [
        {
          "output_type": "display_data",
          "data": {
            "text/plain": [
              "<Figure size 1440x720 with 1 Axes>"
            ],
            "image/png": "[encoded data removed]"
          },
          "metadata": {
            "needs_background": "light"
          }
        }
      ]
    },
    {
      "cell_type": "markdown",
      "source": [
        "#Interpretation\n",
        "There is a sudden dropdown of stocks after 2020 March in all three Tickers and increased slowlely with little fluctuations."
      ],
      "metadata": {
        "id": "Pkpej3k4NzH4"
      }
    },
    {
      "cell_type": "code",
      "source": [
        "#Calculate stock return of Apple and Microsoft in this period.\n",
        "\n",
        "stock_return = np.log(closestock) - np.log(closestock.shift(1))\n",
        "stock_return1 = stock_return.drop(['SPY'], axis=1) #dropping spy column\n",
        "stock_return1"
      ],
      "metadata": {
        "colab": {
          "base_uri": "https://localhost:8080/",
          "height": 455
        },
        "id": "wh7cGZBRIbg5",
        "outputId": "817984e0-ab15-42ce-9456-a680e805156d"
      },
      "execution_count": 43,
      "outputs": [
        {
          "output_type": "execute_result",
          "data": {
            "text/plain": [
              "                AAPL      MSFT\n",
              "Date                          \n",
              "2020-01-02       NaN       NaN\n",
              "2020-01-03 -0.009770 -0.012530\n",
              "2020-01-06  0.007937  0.002581\n",
              "2020-01-07 -0.004714 -0.009160\n",
              "2020-01-08  0.015958  0.015803\n",
              "...              ...       ...\n",
              "2020-12-24  0.007683  0.007797\n",
              "2020-12-28  0.035141  0.009873\n",
              "2020-12-29 -0.013404 -0.003607\n",
              "2020-12-30 -0.008563 -0.011081\n",
              "2020-12-31 -0.007732  0.003333\n",
              "\n",
              "[253 rows x 2 columns]"
            ],
            "text/html": [
              "\n",
              "  <div id=\"df-078ea42a-3030-4b1e-85c6-adec3b4e73cd\">\n",
              "    <div class=\"colab-df-container\">\n",
              "      <div>\n",
              "<style scoped>\n",
              "    .dataframe tbody tr th:only-of-type {\n",
              "        vertical-align: middle;\n",
              "    }\n",
              "\n",
              "    .dataframe tbody tr th {\n",
              "        vertical-align: top;\n",
              "    }\n",
              "\n",
              "    .dataframe thead th {\n",
              "        text-align: right;\n",
              "    }\n",
              "</style>\n",
              "<table border=\"1\" class=\"dataframe\">\n",
              "  <thead>\n",
              "    <tr style=\"text-align: right;\">\n",
              "      <th></th>\n",
              "      <th>AAPL</th>\n",
              "      <th>MSFT</th>\n",
              "    </tr>\n",
              "    <tr>\n",
              "      <th>Date</th>\n",
              "      <th></th>\n",
              "      <th></th>\n",
              "    </tr>\n",
              "  </thead>\n",
              "  <tbody>\n",
              "    <tr>\n",
              "      <th>2020-01-02</th>\n",
              "      <td>NaN</td>\n",
              "      <td>NaN</td>\n",
              "    </tr>\n",
              "    <tr>\n",
              "      <th>2020-01-03</th>\n",
              "      <td>-0.009770</td>\n",
              "      <td>-0.012530</td>\n",
              "    </tr>\n",
              "    <tr>\n",
              "      <th>2020-01-06</th>\n",
              "      <td>0.007937</td>\n",
              "      <td>0.002581</td>\n",
              "    </tr>\n",
              "    <tr>\n",
              "      <th>2020-01-07</th>\n",
              "      <td>-0.004714</td>\n",
              "      <td>-0.009160</td>\n",
              "    </tr>\n",
              "    <tr>\n",
              "      <th>2020-01-08</th>\n",
              "      <td>0.015958</td>\n",
              "      <td>0.015803</td>\n",
              "    </tr>\n",
              "    <tr>\n",
              "      <th>...</th>\n",
              "      <td>...</td>\n",
              "      <td>...</td>\n",
              "    </tr>\n",
              "    <tr>\n",
              "      <th>2020-12-24</th>\n",
              "      <td>0.007683</td>\n",
              "      <td>0.007797</td>\n",
              "    </tr>\n",
              "    <tr>\n",
              "      <th>2020-12-28</th>\n",
              "      <td>0.035141</td>\n",
              "      <td>0.009873</td>\n",
              "    </tr>\n",
              "    <tr>\n",
              "      <th>2020-12-29</th>\n",
              "      <td>-0.013404</td>\n",
              "      <td>-0.003607</td>\n",
              "    </tr>\n",
              "    <tr>\n",
              "      <th>2020-12-30</th>\n",
              "      <td>-0.008563</td>\n",
              "      <td>-0.011081</td>\n",
              "    </tr>\n",
              "    <tr>\n",
              "      <th>2020-12-31</th>\n",
              "      <td>-0.007732</td>\n",
              "      <td>0.003333</td>\n",
              "    </tr>\n",
              "  </tbody>\n",
              "</table>\n",
              "<p>253 rows × 2 columns</p>\n",
              "</div>\n",
              "      <button class=\"colab-df-convert\" onclick=\"convertToInteractive('df-078ea42a-3030-4b1e-85c6-adec3b4e73cd')\"\n",
              "              title=\"Convert this dataframe to an interactive table.\"\n",
              "              style=\"display:none;\">\n",
              "        \n",
              "  <svg xmlns=\"http://www.w3.org/2000/svg\" height=\"24px\"viewBox=\"0 0 24 24\"\n",
              "       width=\"24px\">\n",
              "    <path d=\"M0 0h24v24H0V0z\" fill=\"none\"/>\n",
              "    <path d=\"M18.56 5.44l.94 2.06.94-2.06 2.06-.94-2.06-.94-.94-2.06-.94 2.06-2.06.94zm-11 1L8.5 8.5l.94-2.06 2.06-.94-2.06-.94L8.5 2.5l-.94 2.06-2.06.94zm10 10l.94 2.06.94-2.06 2.06-.94-2.06-.94-.94-2.06-.94 2.06-2.06.94z\"/><path d=\"M17.41 7.96l-1.37-1.37c-.4-.4-.92-.59-1.43-.59-.52 0-1.04.2-1.43.59L10.3 9.45l-7.72 7.72c-.78.78-.78 2.05 0 2.83L4 21.41c.39.39.9.59 1.41.59.51 0 1.02-.2 1.41-.59l7.78-7.78 2.81-2.81c.8-.78.8-2.07 0-2.86zM5.41 20L4 18.59l7.72-7.72 1.47 1.35L5.41 20z\"/>\n",
              "  </svg>\n",
              "      </button>\n",
              "      \n",
              "  <style>\n",
              "    .colab-df-container {\n",
              "      display:flex;\n",
              "      flex-wrap:wrap;\n",
              "      gap: 12px;\n",
              "    }\n",
              "\n",
              "    .colab-df-convert {\n",
              "      background-color: #E8F0FE;\n",
              "      border: none;\n",
              "      border-radius: 50%;\n",
              "      cursor: pointer;\n",
              "      display: none;\n",
              "      fill: #1967D2;\n",
              "      height: 32px;\n",
              "      padding: 0 0 0 0;\n",
              "      width: 32px;\n",
              "    }\n",
              "\n",
              "    .colab-df-convert:hover {\n",
              "      background-color: #E2EBFA;\n",
              "      box-shadow: 0px 1px 2px rgba(60, 64, 67, 0.3), 0px 1px 3px 1px rgba(60, 64, 67, 0.15);\n",
              "      fill: #174EA6;\n",
              "    }\n",
              "\n",
              "    [theme=dark] .colab-df-convert {\n",
              "      background-color: #3B4455;\n",
              "      fill: #D2E3FC;\n",
              "    }\n",
              "\n",
              "    [theme=dark] .colab-df-convert:hover {\n",
              "      background-color: #434B5C;\n",
              "      box-shadow: 0px 1px 3px 1px rgba(0, 0, 0, 0.15);\n",
              "      filter: drop-shadow(0px 1px 2px rgba(0, 0, 0, 0.3));\n",
              "      fill: #FFFFFF;\n",
              "    }\n",
              "  </style>\n",
              "\n",
              "      <script>\n",
              "        const buttonEl =\n",
              "          document.querySelector('#df-078ea42a-3030-4b1e-85c6-adec3b4e73cd button.colab-df-convert');\n",
              "        buttonEl.style.display =\n",
              "          google.colab.kernel.accessAllowed ? 'block' : 'none';\n",
              "\n",
              "        async function convertToInteractive(key) {\n",
              "          const element = document.querySelector('#df-078ea42a-3030-4b1e-85c6-adec3b4e73cd');\n",
              "          const dataTable =\n",
              "            await google.colab.kernel.invokeFunction('convertToInteractive',\n",
              "                                                     [key], {});\n",
              "          if (!dataTable) return;\n",
              "\n",
              "          const docLinkHtml = 'Like what you see? Visit the ' +\n",
              "            '<a target=\"_blank\" href=https://colab.research.google.com/notebooks/data_table.ipynb>data table notebook</a>'\n",
              "            + ' to learn more about interactive tables.';\n",
              "          element.innerHTML = '';\n",
              "          dataTable['output_type'] = 'display_data';\n",
              "          await google.colab.output.renderOutput(dataTable, element);\n",
              "          const docLink = document.createElement('div');\n",
              "          docLink.innerHTML = docLinkHtml;\n",
              "          element.appendChild(docLink);\n",
              "        }\n",
              "      </script>\n",
              "    </div>\n",
              "  </div>\n",
              "  "
            ]
          },
          "metadata": {},
          "execution_count": 43
        }
      ]
    },
    {
      "cell_type": "code",
      "source": [
        "#Calculating largest return of these companies during this period\n",
        "A = stock_return1.max()\n",
        "print(\"Maximum Retun for the two companies between this period -\",A)"
      ],
      "metadata": {
        "colab": {
          "base_uri": "https://localhost:8080/"
        },
        "id": "DwU4AWWNT3iU",
        "outputId": "283d7872-078c-497b-eaef-11ea9fc3455d"
      },
      "execution_count": 51,
      "outputs": [
        {
          "output_type": "stream",
          "name": "stdout",
          "text": [
            "Maximum Retun for the two companies between this period - AAPL    0.113157\n",
            "MSFT    0.132929\n",
            "dtype: float64\n"
          ]
        }
      ]
    },
    {
      "cell_type": "code",
      "source": [
        "#plotting histogram\n",
        "# Downloading data of Apple for 1 year from 2020 to 2021\n",
        "Aapldata = yfin.download(tickers = \"aapl\", start=\"2020-01-01\", end=\"2021-01-01\", interval = \"1d\")\n",
        "Aapldata.head()"
      ],
      "metadata": {
        "colab": {
          "base_uri": "https://localhost:8080/",
          "height": 255
        },
        "id": "e1szp5JkmOw0",
        "outputId": "4f16eea5-2611-47c0-9d1c-a227fef727b0"
      },
      "execution_count": 97,
      "outputs": [
        {
          "output_type": "stream",
          "name": "stdout",
          "text": [
            "\r[*********************100%***********************]  1 of 1 completed\n"
          ]
        },
        {
          "output_type": "execute_result",
          "data": {
            "text/plain": [
              "                 Open       High        Low      Close  Adj Close     Volume\n",
              "Date                                                                        \n",
              "2020-01-02  74.059998  75.150002  73.797501  75.087502  73.683571  135480400\n",
              "2020-01-03  74.287498  75.144997  74.125000  74.357498  72.967209  146322800\n",
              "2020-01-06  73.447502  74.989998  73.187500  74.949997  73.548630  118387200\n",
              "2020-01-07  74.959999  75.224998  74.370003  74.597504  73.202721  108872000\n",
              "2020-01-08  74.290001  76.110001  74.290001  75.797501  74.380295  132079200"
            ],
            "text/html": [
              "\n",
              "  <div id=\"df-874ebec4-00fc-489e-a356-031c558a488c\">\n",
              "    <div class=\"colab-df-container\">\n",
              "      <div>\n",
              "<style scoped>\n",
              "    .dataframe tbody tr th:only-of-type {\n",
              "        vertical-align: middle;\n",
              "    }\n",
              "\n",
              "    .dataframe tbody tr th {\n",
              "        vertical-align: top;\n",
              "    }\n",
              "\n",
              "    .dataframe thead th {\n",
              "        text-align: right;\n",
              "    }\n",
              "</style>\n",
              "<table border=\"1\" class=\"dataframe\">\n",
              "  <thead>\n",
              "    <tr style=\"text-align: right;\">\n",
              "      <th></th>\n",
              "      <th>Open</th>\n",
              "      <th>High</th>\n",
              "      <th>Low</th>\n",
              "      <th>Close</th>\n",
              "      <th>Adj Close</th>\n",
              "      <th>Volume</th>\n",
              "    </tr>\n",
              "    <tr>\n",
              "      <th>Date</th>\n",
              "      <th></th>\n",
              "      <th></th>\n",
              "      <th></th>\n",
              "      <th></th>\n",
              "      <th></th>\n",
              "      <th></th>\n",
              "    </tr>\n",
              "  </thead>\n",
              "  <tbody>\n",
              "    <tr>\n",
              "      <th>2020-01-02</th>\n",
              "      <td>74.059998</td>\n",
              "      <td>75.150002</td>\n",
              "      <td>73.797501</td>\n",
              "      <td>75.087502</td>\n",
              "      <td>73.683571</td>\n",
              "      <td>135480400</td>\n",
              "    </tr>\n",
              "    <tr>\n",
              "      <th>2020-01-03</th>\n",
              "      <td>74.287498</td>\n",
              "      <td>75.144997</td>\n",
              "      <td>74.125000</td>\n",
              "      <td>74.357498</td>\n",
              "      <td>72.967209</td>\n",
              "      <td>146322800</td>\n",
              "    </tr>\n",
              "    <tr>\n",
              "      <th>2020-01-06</th>\n",
              "      <td>73.447502</td>\n",
              "      <td>74.989998</td>\n",
              "      <td>73.187500</td>\n",
              "      <td>74.949997</td>\n",
              "      <td>73.548630</td>\n",
              "      <td>118387200</td>\n",
              "    </tr>\n",
              "    <tr>\n",
              "      <th>2020-01-07</th>\n",
              "      <td>74.959999</td>\n",
              "      <td>75.224998</td>\n",
              "      <td>74.370003</td>\n",
              "      <td>74.597504</td>\n",
              "      <td>73.202721</td>\n",
              "      <td>108872000</td>\n",
              "    </tr>\n",
              "    <tr>\n",
              "      <th>2020-01-08</th>\n",
              "      <td>74.290001</td>\n",
              "      <td>76.110001</td>\n",
              "      <td>74.290001</td>\n",
              "      <td>75.797501</td>\n",
              "      <td>74.380295</td>\n",
              "      <td>132079200</td>\n",
              "    </tr>\n",
              "  </tbody>\n",
              "</table>\n",
              "</div>\n",
              "      <button class=\"colab-df-convert\" onclick=\"convertToInteractive('df-874ebec4-00fc-489e-a356-031c558a488c')\"\n",
              "              title=\"Convert this dataframe to an interactive table.\"\n",
              "              style=\"display:none;\">\n",
              "        \n",
              "  <svg xmlns=\"http://www.w3.org/2000/svg\" height=\"24px\"viewBox=\"0 0 24 24\"\n",
              "       width=\"24px\">\n",
              "    <path d=\"M0 0h24v24H0V0z\" fill=\"none\"/>\n",
              "    <path d=\"M18.56 5.44l.94 2.06.94-2.06 2.06-.94-2.06-.94-.94-2.06-.94 2.06-2.06.94zm-11 1L8.5 8.5l.94-2.06 2.06-.94-2.06-.94L8.5 2.5l-.94 2.06-2.06.94zm10 10l.94 2.06.94-2.06 2.06-.94-2.06-.94-.94-2.06-.94 2.06-2.06.94z\"/><path d=\"M17.41 7.96l-1.37-1.37c-.4-.4-.92-.59-1.43-.59-.52 0-1.04.2-1.43.59L10.3 9.45l-7.72 7.72c-.78.78-.78 2.05 0 2.83L4 21.41c.39.39.9.59 1.41.59.51 0 1.02-.2 1.41-.59l7.78-7.78 2.81-2.81c.8-.78.8-2.07 0-2.86zM5.41 20L4 18.59l7.72-7.72 1.47 1.35L5.41 20z\"/>\n",
              "  </svg>\n",
              "      </button>\n",
              "      \n",
              "  <style>\n",
              "    .colab-df-container {\n",
              "      display:flex;\n",
              "      flex-wrap:wrap;\n",
              "      gap: 12px;\n",
              "    }\n",
              "\n",
              "    .colab-df-convert {\n",
              "      background-color: #E8F0FE;\n",
              "      border: none;\n",
              "      border-radius: 50%;\n",
              "      cursor: pointer;\n",
              "      display: none;\n",
              "      fill: #1967D2;\n",
              "      height: 32px;\n",
              "      padding: 0 0 0 0;\n",
              "      width: 32px;\n",
              "    }\n",
              "\n",
              "    .colab-df-convert:hover {\n",
              "      background-color: #E2EBFA;\n",
              "      box-shadow: 0px 1px 2px rgba(60, 64, 67, 0.3), 0px 1px 3px 1px rgba(60, 64, 67, 0.15);\n",
              "      fill: #174EA6;\n",
              "    }\n",
              "\n",
              "    [theme=dark] .colab-df-convert {\n",
              "      background-color: #3B4455;\n",
              "      fill: #D2E3FC;\n",
              "    }\n",
              "\n",
              "    [theme=dark] .colab-df-convert:hover {\n",
              "      background-color: #434B5C;\n",
              "      box-shadow: 0px 1px 3px 1px rgba(0, 0, 0, 0.15);\n",
              "      filter: drop-shadow(0px 1px 2px rgba(0, 0, 0, 0.3));\n",
              "      fill: #FFFFFF;\n",
              "    }\n",
              "  </style>\n",
              "\n",
              "      <script>\n",
              "        const buttonEl =\n",
              "          document.querySelector('#df-874ebec4-00fc-489e-a356-031c558a488c button.colab-df-convert');\n",
              "        buttonEl.style.display =\n",
              "          google.colab.kernel.accessAllowed ? 'block' : 'none';\n",
              "\n",
              "        async function convertToInteractive(key) {\n",
              "          const element = document.querySelector('#df-874ebec4-00fc-489e-a356-031c558a488c');\n",
              "          const dataTable =\n",
              "            await google.colab.kernel.invokeFunction('convertToInteractive',\n",
              "                                                     [key], {});\n",
              "          if (!dataTable) return;\n",
              "\n",
              "          const docLinkHtml = 'Like what you see? Visit the ' +\n",
              "            '<a target=\"_blank\" href=https://colab.research.google.com/notebooks/data_table.ipynb>data table notebook</a>'\n",
              "            + ' to learn more about interactive tables.';\n",
              "          element.innerHTML = '';\n",
              "          dataTable['output_type'] = 'display_data';\n",
              "          await google.colab.output.renderOutput(dataTable, element);\n",
              "          const docLink = document.createElement('div');\n",
              "          docLink.innerHTML = docLinkHtml;\n",
              "          element.appendChild(docLink);\n",
              "        }\n",
              "      </script>\n",
              "    </div>\n",
              "  </div>\n",
              "  "
            ]
          },
          "metadata": {},
          "execution_count": 97
        }
      ]
    },
    {
      "cell_type": "code",
      "source": [
        "# Downloading data of microsoft for 1 year from 2020 to 2021\n",
        "Msftdata = yfin.download(tickers = \"msft\", start=\"2020-01-01\", end=\"2021-01-01\", interval = \"1d\")\n",
        "Msftdata.head()"
      ],
      "metadata": {
        "colab": {
          "base_uri": "https://localhost:8080/",
          "height": 255
        },
        "id": "bSA1Eg0JmT1U",
        "outputId": "3dca5c5f-e539-4384-9a9a-0e3c9ff55ae8"
      },
      "execution_count": 98,
      "outputs": [
        {
          "output_type": "stream",
          "name": "stdout",
          "text": [
            "\r[*********************100%***********************]  1 of 1 completed\n"
          ]
        },
        {
          "output_type": "execute_result",
          "data": {
            "text/plain": [
              "                  Open        High         Low       Close   Adj Close  \\\n",
              "Date                                                                     \n",
              "2020-01-02  158.779999  160.729996  158.330002  160.619995  156.592010   \n",
              "2020-01-03  158.320007  159.949997  158.059998  158.619995  154.642151   \n",
              "2020-01-06  157.080002  159.100006  156.509995  159.029999  155.041901   \n",
              "2020-01-07  159.320007  159.669998  157.320007  157.580002  153.628250   \n",
              "2020-01-08  158.929993  160.800003  157.949997  160.089996  156.075302   \n",
              "\n",
              "              Volume  \n",
              "Date                  \n",
              "2020-01-02  22622100  \n",
              "2020-01-03  21116200  \n",
              "2020-01-06  20813700  \n",
              "2020-01-07  21634100  \n",
              "2020-01-08  27746500  "
            ],
            "text/html": [
              "\n",
              "  <div id=\"df-4febeffa-6737-45b9-b696-7b5456951431\">\n",
              "    <div class=\"colab-df-container\">\n",
              "      <div>\n",
              "<style scoped>\n",
              "    .dataframe tbody tr th:only-of-type {\n",
              "        vertical-align: middle;\n",
              "    }\n",
              "\n",
              "    .dataframe tbody tr th {\n",
              "        vertical-align: top;\n",
              "    }\n",
              "\n",
              "    .dataframe thead th {\n",
              "        text-align: right;\n",
              "    }\n",
              "</style>\n",
              "<table border=\"1\" class=\"dataframe\">\n",
              "  <thead>\n",
              "    <tr style=\"text-align: right;\">\n",
              "      <th></th>\n",
              "      <th>Open</th>\n",
              "      <th>High</th>\n",
              "      <th>Low</th>\n",
              "      <th>Close</th>\n",
              "      <th>Adj Close</th>\n",
              "      <th>Volume</th>\n",
              "    </tr>\n",
              "    <tr>\n",
              "      <th>Date</th>\n",
              "      <th></th>\n",
              "      <th></th>\n",
              "      <th></th>\n",
              "      <th></th>\n",
              "      <th></th>\n",
              "      <th></th>\n",
              "    </tr>\n",
              "  </thead>\n",
              "  <tbody>\n",
              "    <tr>\n",
              "      <th>2020-01-02</th>\n",
              "      <td>158.779999</td>\n",
              "      <td>160.729996</td>\n",
              "      <td>158.330002</td>\n",
              "      <td>160.619995</td>\n",
              "      <td>156.592010</td>\n",
              "      <td>22622100</td>\n",
              "    </tr>\n",
              "    <tr>\n",
              "      <th>2020-01-03</th>\n",
              "      <td>158.320007</td>\n",
              "      <td>159.949997</td>\n",
              "      <td>158.059998</td>\n",
              "      <td>158.619995</td>\n",
              "      <td>154.642151</td>\n",
              "      <td>21116200</td>\n",
              "    </tr>\n",
              "    <tr>\n",
              "      <th>2020-01-06</th>\n",
              "      <td>157.080002</td>\n",
              "      <td>159.100006</td>\n",
              "      <td>156.509995</td>\n",
              "      <td>159.029999</td>\n",
              "      <td>155.041901</td>\n",
              "      <td>20813700</td>\n",
              "    </tr>\n",
              "    <tr>\n",
              "      <th>2020-01-07</th>\n",
              "      <td>159.320007</td>\n",
              "      <td>159.669998</td>\n",
              "      <td>157.320007</td>\n",
              "      <td>157.580002</td>\n",
              "      <td>153.628250</td>\n",
              "      <td>21634100</td>\n",
              "    </tr>\n",
              "    <tr>\n",
              "      <th>2020-01-08</th>\n",
              "      <td>158.929993</td>\n",
              "      <td>160.800003</td>\n",
              "      <td>157.949997</td>\n",
              "      <td>160.089996</td>\n",
              "      <td>156.075302</td>\n",
              "      <td>27746500</td>\n",
              "    </tr>\n",
              "  </tbody>\n",
              "</table>\n",
              "</div>\n",
              "      <button class=\"colab-df-convert\" onclick=\"convertToInteractive('df-4febeffa-6737-45b9-b696-7b5456951431')\"\n",
              "              title=\"Convert this dataframe to an interactive table.\"\n",
              "              style=\"display:none;\">\n",
              "        \n",
              "  <svg xmlns=\"http://www.w3.org/2000/svg\" height=\"24px\"viewBox=\"0 0 24 24\"\n",
              "       width=\"24px\">\n",
              "    <path d=\"M0 0h24v24H0V0z\" fill=\"none\"/>\n",
              "    <path d=\"M18.56 5.44l.94 2.06.94-2.06 2.06-.94-2.06-.94-.94-2.06-.94 2.06-2.06.94zm-11 1L8.5 8.5l.94-2.06 2.06-.94-2.06-.94L8.5 2.5l-.94 2.06-2.06.94zm10 10l.94 2.06.94-2.06 2.06-.94-2.06-.94-.94-2.06-.94 2.06-2.06.94z\"/><path d=\"M17.41 7.96l-1.37-1.37c-.4-.4-.92-.59-1.43-.59-.52 0-1.04.2-1.43.59L10.3 9.45l-7.72 7.72c-.78.78-.78 2.05 0 2.83L4 21.41c.39.39.9.59 1.41.59.51 0 1.02-.2 1.41-.59l7.78-7.78 2.81-2.81c.8-.78.8-2.07 0-2.86zM5.41 20L4 18.59l7.72-7.72 1.47 1.35L5.41 20z\"/>\n",
              "  </svg>\n",
              "      </button>\n",
              "      \n",
              "  <style>\n",
              "    .colab-df-container {\n",
              "      display:flex;\n",
              "      flex-wrap:wrap;\n",
              "      gap: 12px;\n",
              "    }\n",
              "\n",
              "    .colab-df-convert {\n",
              "      background-color: #E8F0FE;\n",
              "      border: none;\n",
              "      border-radius: 50%;\n",
              "      cursor: pointer;\n",
              "      display: none;\n",
              "      fill: #1967D2;\n",
              "      height: 32px;\n",
              "      padding: 0 0 0 0;\n",
              "      width: 32px;\n",
              "    }\n",
              "\n",
              "    .colab-df-convert:hover {\n",
              "      background-color: #E2EBFA;\n",
              "      box-shadow: 0px 1px 2px rgba(60, 64, 67, 0.3), 0px 1px 3px 1px rgba(60, 64, 67, 0.15);\n",
              "      fill: #174EA6;\n",
              "    }\n",
              "\n",
              "    [theme=dark] .colab-df-convert {\n",
              "      background-color: #3B4455;\n",
              "      fill: #D2E3FC;\n",
              "    }\n",
              "\n",
              "    [theme=dark] .colab-df-convert:hover {\n",
              "      background-color: #434B5C;\n",
              "      box-shadow: 0px 1px 3px 1px rgba(0, 0, 0, 0.15);\n",
              "      filter: drop-shadow(0px 1px 2px rgba(0, 0, 0, 0.3));\n",
              "      fill: #FFFFFF;\n",
              "    }\n",
              "  </style>\n",
              "\n",
              "      <script>\n",
              "        const buttonEl =\n",
              "          document.querySelector('#df-4febeffa-6737-45b9-b696-7b5456951431 button.colab-df-convert');\n",
              "        buttonEl.style.display =\n",
              "          google.colab.kernel.accessAllowed ? 'block' : 'none';\n",
              "\n",
              "        async function convertToInteractive(key) {\n",
              "          const element = document.querySelector('#df-4febeffa-6737-45b9-b696-7b5456951431');\n",
              "          const dataTable =\n",
              "            await google.colab.kernel.invokeFunction('convertToInteractive',\n",
              "                                                     [key], {});\n",
              "          if (!dataTable) return;\n",
              "\n",
              "          const docLinkHtml = 'Like what you see? Visit the ' +\n",
              "            '<a target=\"_blank\" href=https://colab.research.google.com/notebooks/data_table.ipynb>data table notebook</a>'\n",
              "            + ' to learn more about interactive tables.';\n",
              "          element.innerHTML = '';\n",
              "          dataTable['output_type'] = 'display_data';\n",
              "          await google.colab.output.renderOutput(dataTable, element);\n",
              "          const docLink = document.createElement('div');\n",
              "          docLink.innerHTML = docLinkHtml;\n",
              "          element.appendChild(docLink);\n",
              "        }\n",
              "      </script>\n",
              "    </div>\n",
              "  </div>\n",
              "  "
            ]
          },
          "metadata": {},
          "execution_count": 98
        }
      ]
    },
    {
      "cell_type": "code",
      "source": [
        "#Closing stock of aaple by day\n",
        "close = Aapldata.Close\n",
        "close"
      ],
      "metadata": {
        "colab": {
          "base_uri": "https://localhost:8080/"
        },
        "id": "0o_-KM06mTwu",
        "outputId": "e344ad88-48e1-4bec-cb89-68957355a245"
      },
      "execution_count": 99,
      "outputs": [
        {
          "output_type": "execute_result",
          "data": {
            "text/plain": [
              "Date\n",
              "2020-01-02     75.087502\n",
              "2020-01-03     74.357498\n",
              "2020-01-06     74.949997\n",
              "2020-01-07     74.597504\n",
              "2020-01-08     75.797501\n",
              "                 ...    \n",
              "2020-12-24    131.970001\n",
              "2020-12-28    136.690002\n",
              "2020-12-29    134.869995\n",
              "2020-12-30    133.720001\n",
              "2020-12-31    132.690002\n",
              "Name: Close, Length: 253, dtype: float64"
            ]
          },
          "metadata": {},
          "execution_count": 99
        }
      ]
    },
    {
      "cell_type": "code",
      "source": [
        "#stock retun of Apple\n",
        "stock_return1 = np.log(close) - np.log(close.shift(1))\n",
        "stock_return1"
      ],
      "metadata": {
        "colab": {
          "base_uri": "https://localhost:8080/"
        },
        "id": "k7_-l1w4nS-5",
        "outputId": "ffdc02ba-446c-4b38-e2cc-61519e26fc0d"
      },
      "execution_count": 100,
      "outputs": [
        {
          "output_type": "execute_result",
          "data": {
            "text/plain": [
              "Date\n",
              "2020-01-02         NaN\n",
              "2020-01-03   -0.009770\n",
              "2020-01-06    0.007937\n",
              "2020-01-07   -0.004714\n",
              "2020-01-08    0.015958\n",
              "                ...   \n",
              "2020-12-24    0.007683\n",
              "2020-12-28    0.035141\n",
              "2020-12-29   -0.013404\n",
              "2020-12-30   -0.008563\n",
              "2020-12-31   -0.007732\n",
              "Name: Close, Length: 253, dtype: float64"
            ]
          },
          "metadata": {},
          "execution_count": 100
        }
      ]
    },
    {
      "cell_type": "code",
      "source": [
        "#Histogram of Apple \n",
        "plt.figure(figsize=(12,6), dpi = 120)\n",
        "plt.hist(stock_return1, bins = 40)\n",
        "plt.show()"
      ],
      "metadata": {
        "colab": {
          "base_uri": "https://localhost:8080/",
          "height": 614
        },
        "id": "2Lbn_yvWnbjF",
        "outputId": "5b846e12-94bf-4d8d-d8c8-9e680c0c094d"
      },
      "execution_count": 106,
      "outputs": [
        {
          "output_type": "display_data",
          "data": {
            "text/plain": [
              "<Figure size 1440x720 with 1 Axes>"
            ],
            "image/png": "[encoded data removed]"
          },
          "metadata": {
            "needs_background": "light"
          }
        }
      ]
    },
    {
      "cell_type": "code",
      "source": [
        "close1 = Msftdata.Close\n",
        "close1"
      ],
      "metadata": {
        "colab": {
          "base_uri": "https://localhost:8080/"
        },
        "id": "Jfm9Az06ng65",
        "outputId": "84bc9621-b211-4242-9690-765c8d864ddf"
      },
      "execution_count": 102,
      "outputs": [
        {
          "output_type": "execute_result",
          "data": {
            "text/plain": [
              "Date\n",
              "2020-01-02    160.619995\n",
              "2020-01-03    158.619995\n",
              "2020-01-06    159.029999\n",
              "2020-01-07    157.580002\n",
              "2020-01-08    160.089996\n",
              "                 ...    \n",
              "2020-12-24    222.750000\n",
              "2020-12-28    224.960007\n",
              "2020-12-29    224.149994\n",
              "2020-12-30    221.679993\n",
              "2020-12-31    222.419998\n",
              "Name: Close, Length: 253, dtype: float64"
            ]
          },
          "metadata": {},
          "execution_count": 102
        }
      ]
    },
    {
      "cell_type": "code",
      "source": [
        "stock_return2 = np.log(close1) - np.log(close1.shift(1))\n",
        "stock_return2"
      ],
      "metadata": {
        "colab": {
          "base_uri": "https://localhost:8080/"
        },
        "id": "WKOZfX_VnpVr",
        "outputId": "25e223c3-63bf-4f93-c328-422d5d9b6666"
      },
      "execution_count": 103,
      "outputs": [
        {
          "output_type": "execute_result",
          "data": {
            "text/plain": [
              "Date\n",
              "2020-01-02         NaN\n",
              "2020-01-03   -0.012530\n",
              "2020-01-06    0.002581\n",
              "2020-01-07   -0.009160\n",
              "2020-01-08    0.015803\n",
              "                ...   \n",
              "2020-12-24    0.007797\n",
              "2020-12-28    0.009873\n",
              "2020-12-29   -0.003607\n",
              "2020-12-30   -0.011081\n",
              "2020-12-31    0.003333\n",
              "Name: Close, Length: 253, dtype: float64"
            ]
          },
          "metadata": {},
          "execution_count": 103
        }
      ]
    },
    {
      "cell_type": "code",
      "source": [
        "#Histogram of Microsoft\n",
        "plt.figure(figsize=(12,6), dpi = 120)\n",
        "plt.hist(stock_return2, bins = 40)\n",
        "plt.show()"
      ],
      "metadata": {
        "colab": {
          "base_uri": "https://localhost:8080/",
          "height": 614
        },
        "id": "KwBZ49oVnvCF",
        "outputId": "f827d926-5f1d-4ade-fa3f-eaae4d492649"
      },
      "execution_count": 105,
      "outputs": [
        {
          "output_type": "display_data",
          "data": {
            "text/plain": [
              "<Figure size 1440x720 with 1 Axes>"
            ],
            "image/png": "[encoded data removed]"
          },
          "metadata": {
            "needs_background": "light"
          }
        }
      ]
    },
    {
      "cell_type": "markdown",
      "source": [
        "#Interpretation\n",
        "Both follows normal distribution "
      ],
      "metadata": {
        "id": "TPC1XldcohvI"
      }
    },
    {
      "cell_type": "code",
      "source": [
        "#Use QQ plot and see if the stock returns follow normal distribution\n",
        "from scipy import stats\n",
        "print(stats.describe(stock_return1[1]))\n",
        "print(stats.describe(stock_return2[1]))"
      ],
      "metadata": {
        "colab": {
          "base_uri": "https://localhost:8080/"
        },
        "id": "V1trfMi8snMe",
        "outputId": "f258469f-8eae-4899-97af-8f1ff53185db"
      },
      "execution_count": 114,
      "outputs": [
        {
          "output_type": "stream",
          "name": "stdout",
          "text": [
            "DescribeResult(nobs=1, minmax=(-0.0097696030604979, -0.0097696030604979), mean=-0.0097696030604979, variance=nan, skewness=0.0, kurtosis=-3.0)\n",
            "DescribeResult(nobs=1, minmax=(-0.01252992248844631, -0.01252992248844631), mean=-0.01252992248844631, variance=nan, skewness=0.0, kurtosis=-3.0)\n"
          ]
        }
      ]
    },
    {
      "cell_type": "code",
      "source": [
        "stats.probplot(stock_return1[1:], plot=plt);"
      ],
      "metadata": {
        "colab": {
          "base_uri": "https://localhost:8080/",
          "height": 295
        },
        "id": "LttN1aBdtT4f",
        "outputId": "9eebb917-e20e-4054-b630-0f774687ca17"
      },
      "execution_count": 118,
      "outputs": [
        {
          "output_type": "display_data",
          "data": {
            "text/plain": [
              "<Figure size 432x288 with 1 Axes>"
            ],
            "image/png": "[encoded data removed]"
          },
          "metadata": {
            "needs_background": "light"
          }
        }
      ]
    },
    {
      "cell_type": "code",
      "source": [
        "stats.probplot(stock_return2[1:], plot=plt);"
      ],
      "metadata": {
        "colab": {
          "base_uri": "https://localhost:8080/",
          "height": 295
        },
        "id": "Yt0ldjaKtWvk",
        "outputId": "8ae5623d-b8fd-41fa-a5c5-f766f4c30a94"
      },
      "execution_count": 119,
      "outputs": [
        {
          "output_type": "display_data",
          "data": {
            "text/plain": [
              "<Figure size 432x288 with 1 Axes>"
            ],
            "image/png": "[encoded data removed]"
          },
          "metadata": {
            "needs_background": "light"
          }
        }
      ]
    },
    {
      "cell_type": "markdown",
      "source": [
        "#Interpretation\n",
        "\n",
        "Both are almost equal and follows same line which means it follows normal distribution"
      ],
      "metadata": {
        "id": "7zUDocj2tmRd"
      }
    },
    {
      "cell_type": "code",
      "source": [
        "#Calculating the correlation coefficient between these stock returns and interpret\n",
        "print(\"The Correlation between stock return and close price: \",stock_return1.corr(close)) #apple close price and return corelation\n",
        "print(\"The Correlation between stock return and close price: \",stock_return2.corr(close1)) #microsoft close price and return corelation"
      ],
      "metadata": {
        "colab": {
          "base_uri": "https://localhost:8080/"
        },
        "id": "3_pA6Pimtz9a",
        "outputId": "cc356578-5208-450b-d7f7-1b54e15af22d"
      },
      "execution_count": 123,
      "outputs": [
        {
          "output_type": "stream",
          "name": "stdout",
          "text": [
            "The Correlation between stock return and close price:  0.0782191232587448\n",
            "The Correlation between stock return and close price:  0.09643072127376122\n"
          ]
        }
      ]
    }
  ],
  "metadata": {
    "kernelspec": {
      "display_name": "Python 3 (ipykernel)",
      "language": "python",
      "name": "python3"
    },
    "language_info": {
      "codemirror_mode": {
        "name": "ipython",
        "version": 3
      },
      "file_extension": ".py",
      "mimetype": "text/x-python",
      "name": "python",
      "nbconvert_exporter": "python",
      "pygments_lexer": "ipython3",
      "version": "3.9.7"
    },
    "latex_envs": {
      "LaTeX_envs_menu_present": true,
      "autoclose": false,
      "autocomplete": true,
      "bibliofile": "biblio.bib",
      "cite_by": "apalike",
      "current_citInitial": 1,
      "eqLabelWithNumbers": true,
      "eqNumInitial": 1,
      "hotkeys": {
        "equation": "Ctrl-E",
        "itemize": "Ctrl-I"
      },
      "labels_anchors": false,
      "latex_user_defs": false,
      "report_style_numbering": false,
      "user_envs_cfg": false
    },
    "toc": {
      "base_numbering": 1,
      "nav_menu": {},
      "number_sections": false,
      "sideBar": true,
      "skip_h1_title": false,
      "title_cell": "Table of Contents",
      "title_sidebar": "Contents",
      "toc_cell": false,
      "toc_position": {
        "height": "calc(100% - 180px)",
        "left": "10px",
        "top": "150px",
        "width": "231.6750030517578px"
      },
      "toc_section_display": true,
      "toc_window_display": false
    },
    "colab": {
      "provenance": [],
      "include_colab_link": true
    }
  },
  "nbformat": 4,
  "nbformat_minor": 0
}