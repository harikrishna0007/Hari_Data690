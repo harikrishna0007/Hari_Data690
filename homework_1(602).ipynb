{
  "nbformat": 4,
  "nbformat_minor": 0,
  "metadata": {
    "colab": {
      "provenance": [],
      "collapsed_sections": [],
      "authorship_tag": "ABX9TyORfC0C0SLOi5Zk+9BvmgS+",
      "include_colab_link": true
    },
    "kernelspec": {
      "name": "python3",
      "display_name": "Python 3"
    },
    "language_info": {
      "name": "python"
    }
  },
  "cells": [
    {
      "cell_type": "markdown",
      "metadata": {
        "id": "view-in-github",
        "colab_type": "text"
      },
      "source": [
        "<a href=\"https://colab.research.google.com/github/harikrishna0007/Hari_Data690/blob/main/homework_1(602).ipynb\" target=\"_parent\"><img src=\"https://colab.research.google.com/assets/colab-badge.svg\" alt=\"Open In Colab\"/></a>"
      ]
    },
    {
      "cell_type": "markdown",
      "source": [
        "#Question-1"
      ],
      "metadata": {
        "id": "Hc0RXxUAsLa4"
      }
    },
    {
      "cell_type": "markdown",
      "source": [
        "# MAE Cost Function\n",
        "\n",
        "###**(a)** The essential similarity among the Mean Absolute Error (MAE) for the cost function J(ω) and J’(ω) having the developed Mean Square Error (MSE). The J(ω) function essentially depicts the process of calculating the average distance between the predicted and real data without highlighting the errors. On the other hand, J’(ω) function calculates the average squared difference between the actual and predicted values for the concerned cost function. In addition to this, the similarity between the two cost functions is that both factors provide a brief idea about the regression formulation.\n",
        "\n",
        "###**(b)** J(ω) cost function can be utilized only when there are fewer outliers in the entire data whereas the J’(ω) function can be implemented upon data consisting of a high number of outliers.\n"
      ],
      "metadata": {
        "id": "_F-rlc5LsRIt"
      }
    },
    {
      "cell_type": "markdown",
      "source": [
        "#Question-2"
      ],
      "metadata": {
        "id": "dV98cSFZtGGj"
      }
    },
    {
      "cell_type": "markdown",
      "source": [
        "## Collinearity"
      ],
      "metadata": {
        "id": "YxGAoYCqtKnt"
      }
    },
    {
      "cell_type": "markdown",
      "source": [],
      "metadata": {
        "id": "Q1MVGHktt7a9"
      }
    },
    {
      "cell_type": "code",
      "source": [
        "import numpy as np\n",
        "import pandas as pd\n",
        "import matplotlib.pyplot as plt\n",
        "import seaborn as sns\n",
        "import sklearn\n",
        "from sklearn import metrics\n",
        "from sklearn.datasets import load_boston\n",
        "from sklearn.model_selection import train_test_split\n",
        "from sklearn.linear_model import LinearRegression\n",
        "import warnings\n",
        "warnings.filterwarnings('ignore')"
      ],
      "metadata": {
        "id": "yWUENiF9z1j1"
      },
      "execution_count": 63,
      "outputs": []
    },
    {
      "cell_type": "markdown",
      "source": [
        "#Question-3"
      ],
      "metadata": {
        "id": "AVU312rxugXr"
      }
    },
    {
      "cell_type": "markdown",
      "source": [
        "##Occam’s Razor "
      ],
      "metadata": {
        "id": "2iAkszcmujyM"
      }
    },
    {
      "cell_type": "markdown",
      "source": [
        "##Occam’s razor is essentially a philosophical idea that can be applied as an application of a machine learning procedure. The idea behind the utilization of such philosophies is that it suggests the use of simple ML models over models that are more complicated. In addition, this philosophy also states that there is a significant relationship between Occam’s Razor and notions of bias with respect to ML such that so that necessary attributes can be utilized for ML implementation. "
      ],
      "metadata": {
        "id": "PHkErO9nyY24"
      }
    },
    {
      "cell_type": "markdown",
      "source": [
        "#Question-4"
      ],
      "metadata": {
        "id": "8qI4JuEQygt5"
      }
    },
    {
      "cell_type": "markdown",
      "source": [
        "# Regression Analysis"
      ],
      "metadata": {
        "id": "soSfjBgtykEn"
      }
    },
    {
      "cell_type": "markdown",
      "source": [
        "### Loading the dataset"
      ],
      "metadata": {
        "id": "h6dItMFqzlKd"
      }
    },
    {
      "cell_type": "code",
      "execution_count": 64,
      "metadata": {
        "id": "at7Z6yLDsEHi"
      },
      "outputs": [],
      "source": [
        "dt = pd.read_csv('/content/GateArrivalDelay.csv')"
      ]
    },
    {
      "cell_type": "markdown",
      "source": [
        "### Overviewing data"
      ],
      "metadata": {
        "id": "qNiclV480AsY"
      }
    },
    {
      "cell_type": "code",
      "source": [
        "dt"
      ],
      "metadata": {
        "colab": {
          "base_uri": "https://localhost:8080/",
          "height": 679
        },
        "id": "pXIW7Datz7qV",
        "outputId": "f360ee04-646b-4391-cd29-74b7fb8798f1"
      },
      "execution_count": 65,
      "outputs": [
        {
          "output_type": "execute_result",
          "data": {
            "text/plain": [
              "                Date_Time  % On-TimeGateArrivals  AverageBlockDelay  \\\n",
              "0     2019-03-01 00:00:00                  90.00               7.70   \n",
              "1     2019-03-02 00:00:00                  72.73               0.91   \n",
              "2     2019-03-03 00:00:00                  75.00               1.00   \n",
              "3     2019-03-04 00:00:00                  83.33               1.50   \n",
              "4     2019-03-05 00:00:00                  90.91               0.64   \n",
              "...                   ...                    ...                ...   \n",
              "2202  2019-05-27 23:00:00                  47.62              16.29   \n",
              "2203  2019-05-28 23:00:00                  47.06              10.29   \n",
              "2204  2019-05-29 23:00:00                  68.18               4.59   \n",
              "2205  2019-05-30 23:00:00                  59.09               2.55   \n",
              "2206  2019-05-31 23:00:00                  90.91               1.27   \n",
              "\n",
              "      AverageTaxiInDelay  AverageAirborneDelay  AverageAirportDepartureDelay  \\\n",
              "0                   9.47                  0.60                         13.67   \n",
              "1                   2.55                  0.00                         13.17   \n",
              "2                   0.91                  0.00                         25.50   \n",
              "3                   1.13                  3.00                         26.75   \n",
              "4                   1.38                  1.27                         15.00   \n",
              "...                  ...                   ...                           ...   \n",
              "2202               20.23                  1.81                         32.00   \n",
              "2203                8.49                  3.00                         71.17   \n",
              "2204                2.64                  2.18                         11.83   \n",
              "2205                3.04                  2.14                         25.75   \n",
              "2206                5.71                  0.86                         21.50   \n",
              "\n",
              "      AverageGateDepartureDelay  AverageGateArrivalDelay  \n",
              "0                          6.67                     4.70  \n",
              "1                          5.33                    14.73  \n",
              "2                         14.00                    11.38  \n",
              "3                         17.50                     7.08  \n",
              "4                         12.50                     4.09  \n",
              "...                         ...                      ...  \n",
              "2202                      30.75                    23.24  \n",
              "2203                      64.67                    25.71  \n",
              "2204                       9.17                    17.09  \n",
              "2205                      23.00                    15.00  \n",
              "2206                      18.83                     3.27  \n",
              "\n",
              "[2207 rows x 8 columns]"
            ],
            "text/html": [
              "\n",
              "  <div id=\"df-6ced8d25-8a30-45b2-9922-f7f0f27133f0\">\n",
              "    <div class=\"colab-df-container\">\n",
              "      <div>\n",
              "<style scoped>\n",
              "    .dataframe tbody tr th:only-of-type {\n",
              "        vertical-align: middle;\n",
              "    }\n",
              "\n",
              "    .dataframe tbody tr th {\n",
              "        vertical-align: top;\n",
              "    }\n",
              "\n",
              "    .dataframe thead th {\n",
              "        text-align: right;\n",
              "    }\n",
              "</style>\n",
              "<table border=\"1\" class=\"dataframe\">\n",
              "  <thead>\n",
              "    <tr style=\"text-align: right;\">\n",
              "      <th></th>\n",
              "      <th>Date_Time</th>\n",
              "      <th>% On-TimeGateArrivals</th>\n",
              "      <th>AverageBlockDelay</th>\n",
              "      <th>AverageTaxiInDelay</th>\n",
              "      <th>AverageAirborneDelay</th>\n",
              "      <th>AverageAirportDepartureDelay</th>\n",
              "      <th>AverageGateDepartureDelay</th>\n",
              "      <th>AverageGateArrivalDelay</th>\n",
              "    </tr>\n",
              "  </thead>\n",
              "  <tbody>\n",
              "    <tr>\n",
              "      <th>0</th>\n",
              "      <td>2019-03-01 00:00:00</td>\n",
              "      <td>90.00</td>\n",
              "      <td>7.70</td>\n",
              "      <td>9.47</td>\n",
              "      <td>0.60</td>\n",
              "      <td>13.67</td>\n",
              "      <td>6.67</td>\n",
              "      <td>4.70</td>\n",
              "    </tr>\n",
              "    <tr>\n",
              "      <th>1</th>\n",
              "      <td>2019-03-02 00:00:00</td>\n",
              "      <td>72.73</td>\n",
              "      <td>0.91</td>\n",
              "      <td>2.55</td>\n",
              "      <td>0.00</td>\n",
              "      <td>13.17</td>\n",
              "      <td>5.33</td>\n",
              "      <td>14.73</td>\n",
              "    </tr>\n",
              "    <tr>\n",
              "      <th>2</th>\n",
              "      <td>2019-03-03 00:00:00</td>\n",
              "      <td>75.00</td>\n",
              "      <td>1.00</td>\n",
              "      <td>0.91</td>\n",
              "      <td>0.00</td>\n",
              "      <td>25.50</td>\n",
              "      <td>14.00</td>\n",
              "      <td>11.38</td>\n",
              "    </tr>\n",
              "    <tr>\n",
              "      <th>3</th>\n",
              "      <td>2019-03-04 00:00:00</td>\n",
              "      <td>83.33</td>\n",
              "      <td>1.50</td>\n",
              "      <td>1.13</td>\n",
              "      <td>3.00</td>\n",
              "      <td>26.75</td>\n",
              "      <td>17.50</td>\n",
              "      <td>7.08</td>\n",
              "    </tr>\n",
              "    <tr>\n",
              "      <th>4</th>\n",
              "      <td>2019-03-05 00:00:00</td>\n",
              "      <td>90.91</td>\n",
              "      <td>0.64</td>\n",
              "      <td>1.38</td>\n",
              "      <td>1.27</td>\n",
              "      <td>15.00</td>\n",
              "      <td>12.50</td>\n",
              "      <td>4.09</td>\n",
              "    </tr>\n",
              "    <tr>\n",
              "      <th>...</th>\n",
              "      <td>...</td>\n",
              "      <td>...</td>\n",
              "      <td>...</td>\n",
              "      <td>...</td>\n",
              "      <td>...</td>\n",
              "      <td>...</td>\n",
              "      <td>...</td>\n",
              "      <td>...</td>\n",
              "    </tr>\n",
              "    <tr>\n",
              "      <th>2202</th>\n",
              "      <td>2019-05-27 23:00:00</td>\n",
              "      <td>47.62</td>\n",
              "      <td>16.29</td>\n",
              "      <td>20.23</td>\n",
              "      <td>1.81</td>\n",
              "      <td>32.00</td>\n",
              "      <td>30.75</td>\n",
              "      <td>23.24</td>\n",
              "    </tr>\n",
              "    <tr>\n",
              "      <th>2203</th>\n",
              "      <td>2019-05-28 23:00:00</td>\n",
              "      <td>47.06</td>\n",
              "      <td>10.29</td>\n",
              "      <td>8.49</td>\n",
              "      <td>3.00</td>\n",
              "      <td>71.17</td>\n",
              "      <td>64.67</td>\n",
              "      <td>25.71</td>\n",
              "    </tr>\n",
              "    <tr>\n",
              "      <th>2204</th>\n",
              "      <td>2019-05-29 23:00:00</td>\n",
              "      <td>68.18</td>\n",
              "      <td>4.59</td>\n",
              "      <td>2.64</td>\n",
              "      <td>2.18</td>\n",
              "      <td>11.83</td>\n",
              "      <td>9.17</td>\n",
              "      <td>17.09</td>\n",
              "    </tr>\n",
              "    <tr>\n",
              "      <th>2205</th>\n",
              "      <td>2019-05-30 23:00:00</td>\n",
              "      <td>59.09</td>\n",
              "      <td>2.55</td>\n",
              "      <td>3.04</td>\n",
              "      <td>2.14</td>\n",
              "      <td>25.75</td>\n",
              "      <td>23.00</td>\n",
              "      <td>15.00</td>\n",
              "    </tr>\n",
              "    <tr>\n",
              "      <th>2206</th>\n",
              "      <td>2019-05-31 23:00:00</td>\n",
              "      <td>90.91</td>\n",
              "      <td>1.27</td>\n",
              "      <td>5.71</td>\n",
              "      <td>0.86</td>\n",
              "      <td>21.50</td>\n",
              "      <td>18.83</td>\n",
              "      <td>3.27</td>\n",
              "    </tr>\n",
              "  </tbody>\n",
              "</table>\n",
              "<p>2207 rows × 8 columns</p>\n",
              "</div>\n",
              "      <button class=\"colab-df-convert\" onclick=\"convertToInteractive('df-6ced8d25-8a30-45b2-9922-f7f0f27133f0')\"\n",
              "              title=\"Convert this dataframe to an interactive table.\"\n",
              "              style=\"display:none;\">\n",
              "        \n",
              "  <svg xmlns=\"http://www.w3.org/2000/svg\" height=\"24px\"viewBox=\"0 0 24 24\"\n",
              "       width=\"24px\">\n",
              "    <path d=\"M0 0h24v24H0V0z\" fill=\"none\"/>\n",
              "    <path d=\"M18.56 5.44l.94 2.06.94-2.06 2.06-.94-2.06-.94-.94-2.06-.94 2.06-2.06.94zm-11 1L8.5 8.5l.94-2.06 2.06-.94-2.06-.94L8.5 2.5l-.94 2.06-2.06.94zm10 10l.94 2.06.94-2.06 2.06-.94-2.06-.94-.94-2.06-.94 2.06-2.06.94z\"/><path d=\"M17.41 7.96l-1.37-1.37c-.4-.4-.92-.59-1.43-.59-.52 0-1.04.2-1.43.59L10.3 9.45l-7.72 7.72c-.78.78-.78 2.05 0 2.83L4 21.41c.39.39.9.59 1.41.59.51 0 1.02-.2 1.41-.59l7.78-7.78 2.81-2.81c.8-.78.8-2.07 0-2.86zM5.41 20L4 18.59l7.72-7.72 1.47 1.35L5.41 20z\"/>\n",
              "  </svg>\n",
              "      </button>\n",
              "      \n",
              "  <style>\n",
              "    .colab-df-container {\n",
              "      display:flex;\n",
              "      flex-wrap:wrap;\n",
              "      gap: 12px;\n",
              "    }\n",
              "\n",
              "    .colab-df-convert {\n",
              "      background-color: #E8F0FE;\n",
              "      border: none;\n",
              "      border-radius: 50%;\n",
              "      cursor: pointer;\n",
              "      display: none;\n",
              "      fill: #1967D2;\n",
              "      height: 32px;\n",
              "      padding: 0 0 0 0;\n",
              "      width: 32px;\n",
              "    }\n",
              "\n",
              "    .colab-df-convert:hover {\n",
              "      background-color: #E2EBFA;\n",
              "      box-shadow: 0px 1px 2px rgba(60, 64, 67, 0.3), 0px 1px 3px 1px rgba(60, 64, 67, 0.15);\n",
              "      fill: #174EA6;\n",
              "    }\n",
              "\n",
              "    [theme=dark] .colab-df-convert {\n",
              "      background-color: #3B4455;\n",
              "      fill: #D2E3FC;\n",
              "    }\n",
              "\n",
              "    [theme=dark] .colab-df-convert:hover {\n",
              "      background-color: #434B5C;\n",
              "      box-shadow: 0px 1px 3px 1px rgba(0, 0, 0, 0.15);\n",
              "      filter: drop-shadow(0px 1px 2px rgba(0, 0, 0, 0.3));\n",
              "      fill: #FFFFFF;\n",
              "    }\n",
              "  </style>\n",
              "\n",
              "      <script>\n",
              "        const buttonEl =\n",
              "          document.querySelector('#df-6ced8d25-8a30-45b2-9922-f7f0f27133f0 button.colab-df-convert');\n",
              "        buttonEl.style.display =\n",
              "          google.colab.kernel.accessAllowed ? 'block' : 'none';\n",
              "\n",
              "        async function convertToInteractive(key) {\n",
              "          const element = document.querySelector('#df-6ced8d25-8a30-45b2-9922-f7f0f27133f0');\n",
              "          const dataTable =\n",
              "            await google.colab.kernel.invokeFunction('convertToInteractive',\n",
              "                                                     [key], {});\n",
              "          if (!dataTable) return;\n",
              "\n",
              "          const docLinkHtml = 'Like what you see? Visit the ' +\n",
              "            '<a target=\"_blank\" href=https://colab.research.google.com/notebooks/data_table.ipynb>data table notebook</a>'\n",
              "            + ' to learn more about interactive tables.';\n",
              "          element.innerHTML = '';\n",
              "          dataTable['output_type'] = 'display_data';\n",
              "          await google.colab.output.renderOutput(dataTable, element);\n",
              "          const docLink = document.createElement('div');\n",
              "          docLink.innerHTML = docLinkHtml;\n",
              "          element.appendChild(docLink);\n",
              "        }\n",
              "      </script>\n",
              "    </div>\n",
              "  </div>\n",
              "  "
            ]
          },
          "metadata": {},
          "execution_count": 65
        }
      ]
    },
    {
      "cell_type": "markdown",
      "source": [
        "### Performing EDA"
      ],
      "metadata": {
        "id": "cWG5s_1-0JRc"
      }
    },
    {
      "cell_type": "code",
      "source": [
        "dt.info()"
      ],
      "metadata": {
        "colab": {
          "base_uri": "https://localhost:8080/"
        },
        "id": "llLXFNz30Ikz",
        "outputId": "d52ab899-48be-4310-9681-3dd267c8772f"
      },
      "execution_count": 24,
      "outputs": [
        {
          "output_type": "stream",
          "name": "stdout",
          "text": [
            "<class 'pandas.core.frame.DataFrame'>\n",
            "RangeIndex: 2207 entries, 0 to 2206\n",
            "Data columns (total 8 columns):\n",
            " #   Column                        Non-Null Count  Dtype  \n",
            "---  ------                        --------------  -----  \n",
            " 0   Date_Time                     2207 non-null   object \n",
            " 1   % On-TimeGateArrivals         2207 non-null   float64\n",
            " 2   AverageBlockDelay             2207 non-null   float64\n",
            " 3   AverageTaxiInDelay            2207 non-null   float64\n",
            " 4   AverageAirborneDelay          2207 non-null   float64\n",
            " 5   AverageAirportDepartureDelay  2207 non-null   float64\n",
            " 6   AverageGateDepartureDelay     2207 non-null   float64\n",
            " 7   AverageGateArrivalDelay       2207 non-null   float64\n",
            "dtypes: float64(7), object(1)\n",
            "memory usage: 138.1+ KB\n"
          ]
        }
      ]
    },
    {
      "cell_type": "markdown",
      "source": [
        "### Checking Null values"
      ],
      "metadata": {
        "id": "E4SFNVpw0PFM"
      }
    },
    {
      "cell_type": "code",
      "source": [
        "dt.isnull().sum()"
      ],
      "metadata": {
        "colab": {
          "base_uri": "https://localhost:8080/"
        },
        "id": "P3rRtLVI0QHv",
        "outputId": "a5512424-447b-4587-a043-4c6c7ab75ff4"
      },
      "execution_count": 66,
      "outputs": [
        {
          "output_type": "execute_result",
          "data": {
            "text/plain": [
              "Date_Time                       0\n",
              "% On-TimeGateArrivals           0\n",
              "AverageBlockDelay               0\n",
              "AverageTaxiInDelay              0\n",
              "AverageAirborneDelay            0\n",
              "AverageAirportDepartureDelay    0\n",
              "AverageGateDepartureDelay       0\n",
              "AverageGateArrivalDelay         0\n",
              "dtype: int64"
            ]
          },
          "metadata": {},
          "execution_count": 66
        }
      ]
    },
    {
      "cell_type": "code",
      "source": [
        "dt.describe()"
      ],
      "metadata": {
        "colab": {
          "base_uri": "https://localhost:8080/",
          "height": 382
        },
        "id": "TENXtGwV0U_y",
        "outputId": "05be81cd-e483-4d08-c90d-0017dddf8179"
      },
      "execution_count": 67,
      "outputs": [
        {
          "output_type": "execute_result",
          "data": {
            "text/plain": [
              "       % On-TimeGateArrivals  AverageBlockDelay  AverageTaxiInDelay  \\\n",
              "count            2207.000000        2207.000000         2207.000000   \n",
              "mean               80.334214           3.797975            6.247077   \n",
              "std                24.149181           7.109793            3.871284   \n",
              "min                 0.000000           0.000000            0.000000   \n",
              "25%                79.710000           1.160000            3.495000   \n",
              "50%                88.570000           2.360000            6.100000   \n",
              "75%                93.635000           4.005000            8.580000   \n",
              "max               100.000000         163.420000           36.110000   \n",
              "\n",
              "       AverageAirborneDelay  AverageAirportDepartureDelay  \\\n",
              "count           2207.000000                   2207.000000   \n",
              "mean               2.698981                     16.221010   \n",
              "std                5.597806                     15.432223   \n",
              "min                0.000000                      0.000000   \n",
              "25%                0.920000                      8.135000   \n",
              "50%                1.810000                     12.600000   \n",
              "75%                3.000000                     18.755000   \n",
              "max              140.030000                    144.750000   \n",
              "\n",
              "       AverageGateDepartureDelay  AverageGateArrivalDelay  \n",
              "count                2207.000000              2207.000000  \n",
              "mean                    9.568822                 9.517286  \n",
              "std                    12.203389                16.488662  \n",
              "min                     0.000000                 0.000000  \n",
              "25%                     3.390000                 2.965000  \n",
              "50%                     6.460000                 5.470000  \n",
              "75%                    10.755000                 9.470000  \n",
              "max                   114.060000               236.740000  "
            ],
            "text/html": [
              "\n",
              "  <div id=\"df-68cc8626-137d-4196-90eb-6e319d729020\">\n",
              "    <div class=\"colab-df-container\">\n",
              "      <div>\n",
              "<style scoped>\n",
              "    .dataframe tbody tr th:only-of-type {\n",
              "        vertical-align: middle;\n",
              "    }\n",
              "\n",
              "    .dataframe tbody tr th {\n",
              "        vertical-align: top;\n",
              "    }\n",
              "\n",
              "    .dataframe thead th {\n",
              "        text-align: right;\n",
              "    }\n",
              "</style>\n",
              "<table border=\"1\" class=\"dataframe\">\n",
              "  <thead>\n",
              "    <tr style=\"text-align: right;\">\n",
              "      <th></th>\n",
              "      <th>% On-TimeGateArrivals</th>\n",
              "      <th>AverageBlockDelay</th>\n",
              "      <th>AverageTaxiInDelay</th>\n",
              "      <th>AverageAirborneDelay</th>\n",
              "      <th>AverageAirportDepartureDelay</th>\n",
              "      <th>AverageGateDepartureDelay</th>\n",
              "      <th>AverageGateArrivalDelay</th>\n",
              "    </tr>\n",
              "  </thead>\n",
              "  <tbody>\n",
              "    <tr>\n",
              "      <th>count</th>\n",
              "      <td>2207.000000</td>\n",
              "      <td>2207.000000</td>\n",
              "      <td>2207.000000</td>\n",
              "      <td>2207.000000</td>\n",
              "      <td>2207.000000</td>\n",
              "      <td>2207.000000</td>\n",
              "      <td>2207.000000</td>\n",
              "    </tr>\n",
              "    <tr>\n",
              "      <th>mean</th>\n",
              "      <td>80.334214</td>\n",
              "      <td>3.797975</td>\n",
              "      <td>6.247077</td>\n",
              "      <td>2.698981</td>\n",
              "      <td>16.221010</td>\n",
              "      <td>9.568822</td>\n",
              "      <td>9.517286</td>\n",
              "    </tr>\n",
              "    <tr>\n",
              "      <th>std</th>\n",
              "      <td>24.149181</td>\n",
              "      <td>7.109793</td>\n",
              "      <td>3.871284</td>\n",
              "      <td>5.597806</td>\n",
              "      <td>15.432223</td>\n",
              "      <td>12.203389</td>\n",
              "      <td>16.488662</td>\n",
              "    </tr>\n",
              "    <tr>\n",
              "      <th>min</th>\n",
              "      <td>0.000000</td>\n",
              "      <td>0.000000</td>\n",
              "      <td>0.000000</td>\n",
              "      <td>0.000000</td>\n",
              "      <td>0.000000</td>\n",
              "      <td>0.000000</td>\n",
              "      <td>0.000000</td>\n",
              "    </tr>\n",
              "    <tr>\n",
              "      <th>25%</th>\n",
              "      <td>79.710000</td>\n",
              "      <td>1.160000</td>\n",
              "      <td>3.495000</td>\n",
              "      <td>0.920000</td>\n",
              "      <td>8.135000</td>\n",
              "      <td>3.390000</td>\n",
              "      <td>2.965000</td>\n",
              "    </tr>\n",
              "    <tr>\n",
              "      <th>50%</th>\n",
              "      <td>88.570000</td>\n",
              "      <td>2.360000</td>\n",
              "      <td>6.100000</td>\n",
              "      <td>1.810000</td>\n",
              "      <td>12.600000</td>\n",
              "      <td>6.460000</td>\n",
              "      <td>5.470000</td>\n",
              "    </tr>\n",
              "    <tr>\n",
              "      <th>75%</th>\n",
              "      <td>93.635000</td>\n",
              "      <td>4.005000</td>\n",
              "      <td>8.580000</td>\n",
              "      <td>3.000000</td>\n",
              "      <td>18.755000</td>\n",
              "      <td>10.755000</td>\n",
              "      <td>9.470000</td>\n",
              "    </tr>\n",
              "    <tr>\n",
              "      <th>max</th>\n",
              "      <td>100.000000</td>\n",
              "      <td>163.420000</td>\n",
              "      <td>36.110000</td>\n",
              "      <td>140.030000</td>\n",
              "      <td>144.750000</td>\n",
              "      <td>114.060000</td>\n",
              "      <td>236.740000</td>\n",
              "    </tr>\n",
              "  </tbody>\n",
              "</table>\n",
              "</div>\n",
              "      <button class=\"colab-df-convert\" onclick=\"convertToInteractive('df-68cc8626-137d-4196-90eb-6e319d729020')\"\n",
              "              title=\"Convert this dataframe to an interactive table.\"\n",
              "              style=\"display:none;\">\n",
              "        \n",
              "  <svg xmlns=\"http://www.w3.org/2000/svg\" height=\"24px\"viewBox=\"0 0 24 24\"\n",
              "       width=\"24px\">\n",
              "    <path d=\"M0 0h24v24H0V0z\" fill=\"none\"/>\n",
              "    <path d=\"M18.56 5.44l.94 2.06.94-2.06 2.06-.94-2.06-.94-.94-2.06-.94 2.06-2.06.94zm-11 1L8.5 8.5l.94-2.06 2.06-.94-2.06-.94L8.5 2.5l-.94 2.06-2.06.94zm10 10l.94 2.06.94-2.06 2.06-.94-2.06-.94-.94-2.06-.94 2.06-2.06.94z\"/><path d=\"M17.41 7.96l-1.37-1.37c-.4-.4-.92-.59-1.43-.59-.52 0-1.04.2-1.43.59L10.3 9.45l-7.72 7.72c-.78.78-.78 2.05 0 2.83L4 21.41c.39.39.9.59 1.41.59.51 0 1.02-.2 1.41-.59l7.78-7.78 2.81-2.81c.8-.78.8-2.07 0-2.86zM5.41 20L4 18.59l7.72-7.72 1.47 1.35L5.41 20z\"/>\n",
              "  </svg>\n",
              "      </button>\n",
              "      \n",
              "  <style>\n",
              "    .colab-df-container {\n",
              "      display:flex;\n",
              "      flex-wrap:wrap;\n",
              "      gap: 12px;\n",
              "    }\n",
              "\n",
              "    .colab-df-convert {\n",
              "      background-color: #E8F0FE;\n",
              "      border: none;\n",
              "      border-radius: 50%;\n",
              "      cursor: pointer;\n",
              "      display: none;\n",
              "      fill: #1967D2;\n",
              "      height: 32px;\n",
              "      padding: 0 0 0 0;\n",
              "      width: 32px;\n",
              "    }\n",
              "\n",
              "    .colab-df-convert:hover {\n",
              "      background-color: #E2EBFA;\n",
              "      box-shadow: 0px 1px 2px rgba(60, 64, 67, 0.3), 0px 1px 3px 1px rgba(60, 64, 67, 0.15);\n",
              "      fill: #174EA6;\n",
              "    }\n",
              "\n",
              "    [theme=dark] .colab-df-convert {\n",
              "      background-color: #3B4455;\n",
              "      fill: #D2E3FC;\n",
              "    }\n",
              "\n",
              "    [theme=dark] .colab-df-convert:hover {\n",
              "      background-color: #434B5C;\n",
              "      box-shadow: 0px 1px 3px 1px rgba(0, 0, 0, 0.15);\n",
              "      filter: drop-shadow(0px 1px 2px rgba(0, 0, 0, 0.3));\n",
              "      fill: #FFFFFF;\n",
              "    }\n",
              "  </style>\n",
              "\n",
              "      <script>\n",
              "        const buttonEl =\n",
              "          document.querySelector('#df-68cc8626-137d-4196-90eb-6e319d729020 button.colab-df-convert');\n",
              "        buttonEl.style.display =\n",
              "          google.colab.kernel.accessAllowed ? 'block' : 'none';\n",
              "\n",
              "        async function convertToInteractive(key) {\n",
              "          const element = document.querySelector('#df-68cc8626-137d-4196-90eb-6e319d729020');\n",
              "          const dataTable =\n",
              "            await google.colab.kernel.invokeFunction('convertToInteractive',\n",
              "                                                     [key], {});\n",
              "          if (!dataTable) return;\n",
              "\n",
              "          const docLinkHtml = 'Like what you see? Visit the ' +\n",
              "            '<a target=\"_blank\" href=https://colab.research.google.com/notebooks/data_table.ipynb>data table notebook</a>'\n",
              "            + ' to learn more about interactive tables.';\n",
              "          element.innerHTML = '';\n",
              "          dataTable['output_type'] = 'display_data';\n",
              "          await google.colab.output.renderOutput(dataTable, element);\n",
              "          const docLink = document.createElement('div');\n",
              "          docLink.innerHTML = docLinkHtml;\n",
              "          element.appendChild(docLink);\n",
              "        }\n",
              "      </script>\n",
              "    </div>\n",
              "  </div>\n",
              "  "
            ]
          },
          "metadata": {},
          "execution_count": 67
        }
      ]
    },
    {
      "cell_type": "markdown",
      "source": [
        "### **(A)**Implementing correlation analysis"
      ],
      "metadata": {
        "id": "txvOfhAK0Zg5"
      }
    },
    {
      "cell_type": "code",
      "source": [
        "plt.figure(figsize=(15, 10))\n",
        "sns.heatmap(dt.corr(), linewidths=.5, cmap = 'Reds', annot = True)"
      ],
      "metadata": {
        "colab": {
          "base_uri": "https://localhost:8080/",
          "height": 758
        },
        "id": "fcWPJlSK0aUs",
        "outputId": "fb61b00f-e02c-4c40-c133-dd2798714f18"
      },
      "execution_count": 68,
      "outputs": [
        {
          "output_type": "execute_result",
          "data": {
            "text/plain": [
              "<matplotlib.axes._subplots.AxesSubplot at 0x7f615a9f6410>"
            ]
          },
          "metadata": {},
          "execution_count": 68
        },
        {
          "output_type": "display_data",
          "data": {
            "text/plain": [
              "<Figure size 1080x720 with 2 Axes>"
            ],
            "image/png": "[encoded data removed]"
          },
          "metadata": {
            "needs_background": "light"
          }
        }
      ]
    },
    {
      "cell_type": "markdown",
      "source": [
        "### Selection of features"
      ],
      "metadata": {
        "id": "k7cKOkVN1OLL"
      }
    },
    {
      "cell_type": "code",
      "source": [
        "X2 = dt[[\"AverageBlockDelay\"]]\n",
        "y2 = dt[[\"AverageGateArrivalDelay\"]]"
      ],
      "metadata": {
        "id": "6xJ26DWc1PCh"
      },
      "execution_count": 69,
      "outputs": []
    },
    {
      "cell_type": "code",
      "source": [],
      "metadata": {
        "id": "osZ3RQKJA-2P"
      },
      "execution_count": 38,
      "outputs": []
    },
    {
      "cell_type": "markdown",
      "source": [
        "#### **(B)** Splitting of data\n",
        "\n",
        "- splitting data while taking the test size as 0.3. "
      ],
      "metadata": {
        "id": "YHdrPdIX1XL3"
      }
    },
    {
      "cell_type": "code",
      "source": [
        "from sklearn.model_selection import train_test_split\n",
        "X2_train, X2_test, y2_train, y2_test = train_test_split(X2, y2, test_size=0.3, random_state=41)"
      ],
      "metadata": {
        "id": "3jX_st5y1af-"
      },
      "execution_count": 70,
      "outputs": []
    },
    {
      "cell_type": "markdown",
      "source": [
        "###Developing model"
      ],
      "metadata": {
        "id": "gj4tICTOLwIw"
      }
    },
    {
      "cell_type": "code",
      "source": [
        "from sklearn import metrics\n",
        "from sklearn.model_selection import cross_val_score\n",
        "\n",
        "def cross_val(model):\n",
        "    pred = cross_val_score(model, X2, y2, cv=10)\n",
        "    return pred.mean()\n",
        "\n",
        "def print_evaluate(true, predicted):  \n",
        "    mae = metrics.mean_absolute_error(true, predicted)\n",
        "    mse = metrics.mean_squared_error(true, predicted)\n",
        "    rmse = np.sqrt(metrics.mean_squared_error(true, predicted))\n",
        "    r2_square = metrics.r2_score(true, predicted)\n",
        "    print('MAE:', mae)\n",
        "    print('MSE:', mse)\n",
        "    print('RMSE:', rmse)\n",
        "    print('R2 Square', r2_square)\n",
        "    print('__________________________________')\n",
        "    \n",
        "def evaluate(true, predicted):\n",
        "    mae = metrics.mean_absolute_error(true, predicted)\n",
        "    mse = metrics.mean_squared_error(true, predicted)\n",
        "    rmse = np.sqrt(metrics.mean_squared_error(true, predicted))\n",
        "    r2_square = metrics.r2_score(true, predicted)\n",
        "    return mae, mse, rmse, r2_square"
      ],
      "metadata": {
        "id": "pR_njeL6Bk9Z"
      },
      "execution_count": 72,
      "outputs": []
    },
    {
      "cell_type": "markdown",
      "source": [
        "#### Model Pipelining and Standard Scaler"
      ],
      "metadata": {
        "id": "QKTxz77D19-f"
      }
    },
    {
      "cell_type": "code",
      "source": [
        "from sklearn.preprocessing import StandardScaler\n",
        "from sklearn.pipeline import Pipeline\n",
        "pipeline = Pipeline([('std_scalar', StandardScaler())])\n",
        "X2_train = pipeline.fit_transform(X2_train)\n",
        "X2_test = pipeline.transform(X2_test)"
      ],
      "metadata": {
        "id": "EyybQLvJ1_Av"
      },
      "execution_count": 73,
      "outputs": []
    },
    {
      "cell_type": "markdown",
      "source": [
        "#### **(C)** Implementing Linear Regression"
      ],
      "metadata": {
        "id": "8rGSLwAr8OZ_"
      }
    },
    {
      "cell_type": "code",
      "source": [
        "from sklearn.linear_model import LinearRegression\n",
        "lin_reg = LinearRegression(normalize=True)\n",
        "lin_reg.fit(X2_train,y2_train)"
      ],
      "metadata": {
        "colab": {
          "base_uri": "https://localhost:8080/"
        },
        "id": "HkRoetJJ8UZa",
        "outputId": "fa0a86d6-42df-4a46-c3e0-1caa64525808"
      },
      "execution_count": 74,
      "outputs": [
        {
          "output_type": "execute_result",
          "data": {
            "text/plain": [
              "LinearRegression(normalize=True)"
            ]
          },
          "metadata": {},
          "execution_count": 74
        }
      ]
    },
    {
      "cell_type": "markdown",
      "source": [
        "#### Predicting results"
      ],
      "metadata": {
        "id": "CJLsRjb29QF7"
      }
    },
    {
      "cell_type": "code",
      "source": [
        "pred2 = lin_reg.predict(X2_test)"
      ],
      "metadata": {
        "id": "9UZWtPqe9REq"
      },
      "execution_count": 75,
      "outputs": []
    },
    {
      "cell_type": "markdown",
      "source": [
        "### Analysis\n",
        "\n",
        "- Although one considers linear regression to be a simple model, it frequently results in a high bias, low variance ML model. \n",
        "\n",
        "- It indicates that because it is straightforward, it typically generalizes well but can occasionally perform worse in some extreme circumstances.\n",
        "\n",
        "- Therefore, simpler models are High Bias, Low Variance models, which is the answer."
      ],
      "metadata": {
        "id": "HW23Nxdg9Vl3"
      }
    },
    {
      "cell_type": "markdown",
      "source": [
        "#### **(D)** Obtaining Results"
      ],
      "metadata": {
        "id": "h8QRASMe-c1c"
      }
    },
    {
      "cell_type": "code",
      "source": [
        "test_pred2 = lin_reg.predict(X2_test)\n",
        "train_pred2 = lin_reg.predict(X2_train)\n",
        "\n",
        "print('Test set evaluation:\\n_____________________________________')\n",
        "print_evaluate(y2_test, test_pred2)\n",
        "print('Train set evaluation:\\n_____________________________________')\n",
        "print_evaluate(y2_train, train_pred2)\n",
        "\n",
        "results_df2 = pd.DataFrame(data=[[\"Linear Regression with LSTAT and other correlated features\", *evaluate(y2_test, test_pred2) , cross_val(LinearRegression())]],columns=['Model', 'MAE', 'MSE', 'RMSE', 'R2 Square', \"Cross Validation\"])"
      ],
      "metadata": {
        "colab": {
          "base_uri": "https://localhost:8080/"
        },
        "id": "BQ70MjJgC_aT",
        "outputId": "cecc8275-cdec-43c9-fc32-c7d3985c18c4"
      },
      "execution_count": 77,
      "outputs": [
        {
          "output_type": "stream",
          "name": "stdout",
          "text": [
            "Test set evaluation:\n",
            "_____________________________________\n",
            "MAE: 5.078498780779803\n",
            "MSE: 90.2578598167164\n",
            "RMSE: 9.500413665557748\n",
            "R2 Square 0.5264877149909877\n",
            "__________________________________\n",
            "Train set evaluation:\n",
            "_____________________________________\n",
            "MAE: 5.212072553742542\n",
            "MSE: 112.17723779647164\n",
            "RMSE: 10.591375632866187\n",
            "R2 Square 0.6341139015687463\n",
            "__________________________________\n"
          ]
        }
      ]
    },
    {
      "cell_type": "markdown",
      "source": [
        "## E"
      ],
      "metadata": {
        "id": "JC5vgWBBS8ye"
      }
    },
    {
      "cell_type": "markdown",
      "source": [
        "- The key word here is \"often\"; the way that logistic regressions are constructed, particularly when compared to other sorts of models, is much more likely to favor specific forms of errors; in this case, bias-type errors are more likely to be produced than variance-type errors.\n",
        "\n",
        "- Another way to look at it is that most linear models will give you generally accurate predictions overall rather than extremely accurate or wrong ones. \n",
        "\n",
        "- Obviously, that is a very simplistic interpretation, but here have discovered a method that feels natural. \n",
        "\n",
        "-  In essence, linear models will make more general predictions rather than capturing every variation in the data due to the way they are built."
      ],
      "metadata": {
        "id": "z8kfRNKGSWft"
      }
    },
    {
      "cell_type": "code",
      "source": [
        "dat = dt[[\"AverageBlockDelay\", \"AverageGateArrivalDelay\"]]\n",
        "dat"
      ],
      "metadata": {
        "colab": {
          "base_uri": "https://localhost:8080/",
          "height": 424
        },
        "id": "cUVmSqpgLuP7",
        "outputId": "f290a61a-0696-4dab-8978-b2e7703fafe9"
      },
      "execution_count": 82,
      "outputs": [
        {
          "output_type": "execute_result",
          "data": {
            "text/plain": [
              "      AverageBlockDelay  AverageGateArrivalDelay\n",
              "0                  7.70                     4.70\n",
              "1                  0.91                    14.73\n",
              "2                  1.00                    11.38\n",
              "3                  1.50                     7.08\n",
              "4                  0.64                     4.09\n",
              "...                 ...                      ...\n",
              "2202              16.29                    23.24\n",
              "2203              10.29                    25.71\n",
              "2204               4.59                    17.09\n",
              "2205               2.55                    15.00\n",
              "2206               1.27                     3.27\n",
              "\n",
              "[2207 rows x 2 columns]"
            ],
            "text/html": [
              "\n",
              "  <div id=\"df-f22b8cf3-0350-4613-9e55-091f9ec7a2f8\">\n",
              "    <div class=\"colab-df-container\">\n",
              "      <div>\n",
              "<style scoped>\n",
              "    .dataframe tbody tr th:only-of-type {\n",
              "        vertical-align: middle;\n",
              "    }\n",
              "\n",
              "    .dataframe tbody tr th {\n",
              "        vertical-align: top;\n",
              "    }\n",
              "\n",
              "    .dataframe thead th {\n",
              "        text-align: right;\n",
              "    }\n",
              "</style>\n",
              "<table border=\"1\" class=\"dataframe\">\n",
              "  <thead>\n",
              "    <tr style=\"text-align: right;\">\n",
              "      <th></th>\n",
              "      <th>AverageBlockDelay</th>\n",
              "      <th>AverageGateArrivalDelay</th>\n",
              "    </tr>\n",
              "  </thead>\n",
              "  <tbody>\n",
              "    <tr>\n",
              "      <th>0</th>\n",
              "      <td>7.70</td>\n",
              "      <td>4.70</td>\n",
              "    </tr>\n",
              "    <tr>\n",
              "      <th>1</th>\n",
              "      <td>0.91</td>\n",
              "      <td>14.73</td>\n",
              "    </tr>\n",
              "    <tr>\n",
              "      <th>2</th>\n",
              "      <td>1.00</td>\n",
              "      <td>11.38</td>\n",
              "    </tr>\n",
              "    <tr>\n",
              "      <th>3</th>\n",
              "      <td>1.50</td>\n",
              "      <td>7.08</td>\n",
              "    </tr>\n",
              "    <tr>\n",
              "      <th>4</th>\n",
              "      <td>0.64</td>\n",
              "      <td>4.09</td>\n",
              "    </tr>\n",
              "    <tr>\n",
              "      <th>...</th>\n",
              "      <td>...</td>\n",
              "      <td>...</td>\n",
              "    </tr>\n",
              "    <tr>\n",
              "      <th>2202</th>\n",
              "      <td>16.29</td>\n",
              "      <td>23.24</td>\n",
              "    </tr>\n",
              "    <tr>\n",
              "      <th>2203</th>\n",
              "      <td>10.29</td>\n",
              "      <td>25.71</td>\n",
              "    </tr>\n",
              "    <tr>\n",
              "      <th>2204</th>\n",
              "      <td>4.59</td>\n",
              "      <td>17.09</td>\n",
              "    </tr>\n",
              "    <tr>\n",
              "      <th>2205</th>\n",
              "      <td>2.55</td>\n",
              "      <td>15.00</td>\n",
              "    </tr>\n",
              "    <tr>\n",
              "      <th>2206</th>\n",
              "      <td>1.27</td>\n",
              "      <td>3.27</td>\n",
              "    </tr>\n",
              "  </tbody>\n",
              "</table>\n",
              "<p>2207 rows × 2 columns</p>\n",
              "</div>\n",
              "      <button class=\"colab-df-convert\" onclick=\"convertToInteractive('df-f22b8cf3-0350-4613-9e55-091f9ec7a2f8')\"\n",
              "              title=\"Convert this dataframe to an interactive table.\"\n",
              "              style=\"display:none;\">\n",
              "        \n",
              "  <svg xmlns=\"http://www.w3.org/2000/svg\" height=\"24px\"viewBox=\"0 0 24 24\"\n",
              "       width=\"24px\">\n",
              "    <path d=\"M0 0h24v24H0V0z\" fill=\"none\"/>\n",
              "    <path d=\"M18.56 5.44l.94 2.06.94-2.06 2.06-.94-2.06-.94-.94-2.06-.94 2.06-2.06.94zm-11 1L8.5 8.5l.94-2.06 2.06-.94-2.06-.94L8.5 2.5l-.94 2.06-2.06.94zm10 10l.94 2.06.94-2.06 2.06-.94-2.06-.94-.94-2.06-.94 2.06-2.06.94z\"/><path d=\"M17.41 7.96l-1.37-1.37c-.4-.4-.92-.59-1.43-.59-.52 0-1.04.2-1.43.59L10.3 9.45l-7.72 7.72c-.78.78-.78 2.05 0 2.83L4 21.41c.39.39.9.59 1.41.59.51 0 1.02-.2 1.41-.59l7.78-7.78 2.81-2.81c.8-.78.8-2.07 0-2.86zM5.41 20L4 18.59l7.72-7.72 1.47 1.35L5.41 20z\"/>\n",
              "  </svg>\n",
              "      </button>\n",
              "      \n",
              "  <style>\n",
              "    .colab-df-container {\n",
              "      display:flex;\n",
              "      flex-wrap:wrap;\n",
              "      gap: 12px;\n",
              "    }\n",
              "\n",
              "    .colab-df-convert {\n",
              "      background-color: #E8F0FE;\n",
              "      border: none;\n",
              "      border-radius: 50%;\n",
              "      cursor: pointer;\n",
              "      display: none;\n",
              "      fill: #1967D2;\n",
              "      height: 32px;\n",
              "      padding: 0 0 0 0;\n",
              "      width: 32px;\n",
              "    }\n",
              "\n",
              "    .colab-df-convert:hover {\n",
              "      background-color: #E2EBFA;\n",
              "      box-shadow: 0px 1px 2px rgba(60, 64, 67, 0.3), 0px 1px 3px 1px rgba(60, 64, 67, 0.15);\n",
              "      fill: #174EA6;\n",
              "    }\n",
              "\n",
              "    [theme=dark] .colab-df-convert {\n",
              "      background-color: #3B4455;\n",
              "      fill: #D2E3FC;\n",
              "    }\n",
              "\n",
              "    [theme=dark] .colab-df-convert:hover {\n",
              "      background-color: #434B5C;\n",
              "      box-shadow: 0px 1px 3px 1px rgba(0, 0, 0, 0.15);\n",
              "      filter: drop-shadow(0px 1px 2px rgba(0, 0, 0, 0.3));\n",
              "      fill: #FFFFFF;\n",
              "    }\n",
              "  </style>\n",
              "\n",
              "      <script>\n",
              "        const buttonEl =\n",
              "          document.querySelector('#df-f22b8cf3-0350-4613-9e55-091f9ec7a2f8 button.colab-df-convert');\n",
              "        buttonEl.style.display =\n",
              "          google.colab.kernel.accessAllowed ? 'block' : 'none';\n",
              "\n",
              "        async function convertToInteractive(key) {\n",
              "          const element = document.querySelector('#df-f22b8cf3-0350-4613-9e55-091f9ec7a2f8');\n",
              "          const dataTable =\n",
              "            await google.colab.kernel.invokeFunction('convertToInteractive',\n",
              "                                                     [key], {});\n",
              "          if (!dataTable) return;\n",
              "\n",
              "          const docLinkHtml = 'Like what you see? Visit the ' +\n",
              "            '<a target=\"_blank\" href=https://colab.research.google.com/notebooks/data_table.ipynb>data table notebook</a>'\n",
              "            + ' to learn more about interactive tables.';\n",
              "          element.innerHTML = '';\n",
              "          dataTable['output_type'] = 'display_data';\n",
              "          await google.colab.output.renderOutput(dataTable, element);\n",
              "          const docLink = document.createElement('div');\n",
              "          docLink.innerHTML = docLinkHtml;\n",
              "          element.appendChild(docLink);\n",
              "        }\n",
              "      </script>\n",
              "    </div>\n",
              "  </div>\n",
              "  "
            ]
          },
          "metadata": {},
          "execution_count": 82
        }
      ]
    },
    {
      "cell_type": "markdown",
      "source": [
        "### quadratic regression analysis"
      ],
      "metadata": {
        "id": "Od7OAk2ATkt9"
      }
    },
    {
      "cell_type": "markdown",
      "source": [
        "- A statistical technique called quadratic regression is employed to identify the parabola solution that best fits a given set of information. Finding the equations of the straight line which most closely fits a data set is the goal of this sort of regression, which is an expansion of simple linear regression. \n",
        "\n",
        "-  Finding the equations of the parabola which best fits a collection of data is the procedure of a quadratic regression. As a result, users get at the equation y=ax2+bx+c where a0. The least squares method is the most efficient way to manually find this equation.\n",
        "\n",
        "-  In situations where the second differences are constant, a quadratic model is adequate. We can ascertain the degree of the model for the data by identifying variations between the dependent values. \n",
        "\n",
        "- The model will be quadratic if the second difference has the same value as the first. It is also possible to employ quadratic functions as models. \n",
        "\n",
        "-  For instance, the area of a rectangular block of land bounded on three sides by a 100-foot fence could be represented by the function A (x) = 50 x x 2 2. This model could be used to determine the land plot's largest feasible area."
      ],
      "metadata": {
        "id": "9p12CXFTTwey"
      }
    },
    {
      "cell_type": "code",
      "source": [
        "dat['quad'] = dat.apply(lambda row: row.AverageGateArrivalDelay**2, axis =1 )\n",
        "dat"
      ],
      "metadata": {
        "colab": {
          "base_uri": "https://localhost:8080/",
          "height": 424
        },
        "id": "pwOHTl_hRR3b",
        "outputId": "c3539604-037b-4723-c333-9874e7c669e8"
      },
      "execution_count": 83,
      "outputs": [
        {
          "output_type": "execute_result",
          "data": {
            "text/plain": [
              "      AverageBlockDelay  AverageGateArrivalDelay      quad\n",
              "0                  7.70                     4.70   22.0900\n",
              "1                  0.91                    14.73  216.9729\n",
              "2                  1.00                    11.38  129.5044\n",
              "3                  1.50                     7.08   50.1264\n",
              "4                  0.64                     4.09   16.7281\n",
              "...                 ...                      ...       ...\n",
              "2202              16.29                    23.24  540.0976\n",
              "2203              10.29                    25.71  661.0041\n",
              "2204               4.59                    17.09  292.0681\n",
              "2205               2.55                    15.00  225.0000\n",
              "2206               1.27                     3.27   10.6929\n",
              "\n",
              "[2207 rows x 3 columns]"
            ],
            "text/html": [
              "\n",
              "  <div id=\"df-9245d9d5-38d5-49c0-a496-c541b449991a\">\n",
              "    <div class=\"colab-df-container\">\n",
              "      <div>\n",
              "<style scoped>\n",
              "    .dataframe tbody tr th:only-of-type {\n",
              "        vertical-align: middle;\n",
              "    }\n",
              "\n",
              "    .dataframe tbody tr th {\n",
              "        vertical-align: top;\n",
              "    }\n",
              "\n",
              "    .dataframe thead th {\n",
              "        text-align: right;\n",
              "    }\n",
              "</style>\n",
              "<table border=\"1\" class=\"dataframe\">\n",
              "  <thead>\n",
              "    <tr style=\"text-align: right;\">\n",
              "      <th></th>\n",
              "      <th>AverageBlockDelay</th>\n",
              "      <th>AverageGateArrivalDelay</th>\n",
              "      <th>quad</th>\n",
              "    </tr>\n",
              "  </thead>\n",
              "  <tbody>\n",
              "    <tr>\n",
              "      <th>0</th>\n",
              "      <td>7.70</td>\n",
              "      <td>4.70</td>\n",
              "      <td>22.0900</td>\n",
              "    </tr>\n",
              "    <tr>\n",
              "      <th>1</th>\n",
              "      <td>0.91</td>\n",
              "      <td>14.73</td>\n",
              "      <td>216.9729</td>\n",
              "    </tr>\n",
              "    <tr>\n",
              "      <th>2</th>\n",
              "      <td>1.00</td>\n",
              "      <td>11.38</td>\n",
              "      <td>129.5044</td>\n",
              "    </tr>\n",
              "    <tr>\n",
              "      <th>3</th>\n",
              "      <td>1.50</td>\n",
              "      <td>7.08</td>\n",
              "      <td>50.1264</td>\n",
              "    </tr>\n",
              "    <tr>\n",
              "      <th>4</th>\n",
              "      <td>0.64</td>\n",
              "      <td>4.09</td>\n",
              "      <td>16.7281</td>\n",
              "    </tr>\n",
              "    <tr>\n",
              "      <th>...</th>\n",
              "      <td>...</td>\n",
              "      <td>...</td>\n",
              "      <td>...</td>\n",
              "    </tr>\n",
              "    <tr>\n",
              "      <th>2202</th>\n",
              "      <td>16.29</td>\n",
              "      <td>23.24</td>\n",
              "      <td>540.0976</td>\n",
              "    </tr>\n",
              "    <tr>\n",
              "      <th>2203</th>\n",
              "      <td>10.29</td>\n",
              "      <td>25.71</td>\n",
              "      <td>661.0041</td>\n",
              "    </tr>\n",
              "    <tr>\n",
              "      <th>2204</th>\n",
              "      <td>4.59</td>\n",
              "      <td>17.09</td>\n",
              "      <td>292.0681</td>\n",
              "    </tr>\n",
              "    <tr>\n",
              "      <th>2205</th>\n",
              "      <td>2.55</td>\n",
              "      <td>15.00</td>\n",
              "      <td>225.0000</td>\n",
              "    </tr>\n",
              "    <tr>\n",
              "      <th>2206</th>\n",
              "      <td>1.27</td>\n",
              "      <td>3.27</td>\n",
              "      <td>10.6929</td>\n",
              "    </tr>\n",
              "  </tbody>\n",
              "</table>\n",
              "<p>2207 rows × 3 columns</p>\n",
              "</div>\n",
              "      <button class=\"colab-df-convert\" onclick=\"convertToInteractive('df-9245d9d5-38d5-49c0-a496-c541b449991a')\"\n",
              "              title=\"Convert this dataframe to an interactive table.\"\n",
              "              style=\"display:none;\">\n",
              "        \n",
              "  <svg xmlns=\"http://www.w3.org/2000/svg\" height=\"24px\"viewBox=\"0 0 24 24\"\n",
              "       width=\"24px\">\n",
              "    <path d=\"M0 0h24v24H0V0z\" fill=\"none\"/>\n",
              "    <path d=\"M18.56 5.44l.94 2.06.94-2.06 2.06-.94-2.06-.94-.94-2.06-.94 2.06-2.06.94zm-11 1L8.5 8.5l.94-2.06 2.06-.94-2.06-.94L8.5 2.5l-.94 2.06-2.06.94zm10 10l.94 2.06.94-2.06 2.06-.94-2.06-.94-.94-2.06-.94 2.06-2.06.94z\"/><path d=\"M17.41 7.96l-1.37-1.37c-.4-.4-.92-.59-1.43-.59-.52 0-1.04.2-1.43.59L10.3 9.45l-7.72 7.72c-.78.78-.78 2.05 0 2.83L4 21.41c.39.39.9.59 1.41.59.51 0 1.02-.2 1.41-.59l7.78-7.78 2.81-2.81c.8-.78.8-2.07 0-2.86zM5.41 20L4 18.59l7.72-7.72 1.47 1.35L5.41 20z\"/>\n",
              "  </svg>\n",
              "      </button>\n",
              "      \n",
              "  <style>\n",
              "    .colab-df-container {\n",
              "      display:flex;\n",
              "      flex-wrap:wrap;\n",
              "      gap: 12px;\n",
              "    }\n",
              "\n",
              "    .colab-df-convert {\n",
              "      background-color: #E8F0FE;\n",
              "      border: none;\n",
              "      border-radius: 50%;\n",
              "      cursor: pointer;\n",
              "      display: none;\n",
              "      fill: #1967D2;\n",
              "      height: 32px;\n",
              "      padding: 0 0 0 0;\n",
              "      width: 32px;\n",
              "    }\n",
              "\n",
              "    .colab-df-convert:hover {\n",
              "      background-color: #E2EBFA;\n",
              "      box-shadow: 0px 1px 2px rgba(60, 64, 67, 0.3), 0px 1px 3px 1px rgba(60, 64, 67, 0.15);\n",
              "      fill: #174EA6;\n",
              "    }\n",
              "\n",
              "    [theme=dark] .colab-df-convert {\n",
              "      background-color: #3B4455;\n",
              "      fill: #D2E3FC;\n",
              "    }\n",
              "\n",
              "    [theme=dark] .colab-df-convert:hover {\n",
              "      background-color: #434B5C;\n",
              "      box-shadow: 0px 1px 3px 1px rgba(0, 0, 0, 0.15);\n",
              "      filter: drop-shadow(0px 1px 2px rgba(0, 0, 0, 0.3));\n",
              "      fill: #FFFFFF;\n",
              "    }\n",
              "  </style>\n",
              "\n",
              "      <script>\n",
              "        const buttonEl =\n",
              "          document.querySelector('#df-9245d9d5-38d5-49c0-a496-c541b449991a button.colab-df-convert');\n",
              "        buttonEl.style.display =\n",
              "          google.colab.kernel.accessAllowed ? 'block' : 'none';\n",
              "\n",
              "        async function convertToInteractive(key) {\n",
              "          const element = document.querySelector('#df-9245d9d5-38d5-49c0-a496-c541b449991a');\n",
              "          const dataTable =\n",
              "            await google.colab.kernel.invokeFunction('convertToInteractive',\n",
              "                                                     [key], {});\n",
              "          if (!dataTable) return;\n",
              "\n",
              "          const docLinkHtml = 'Like what you see? Visit the ' +\n",
              "            '<a target=\"_blank\" href=https://colab.research.google.com/notebooks/data_table.ipynb>data table notebook</a>'\n",
              "            + ' to learn more about interactive tables.';\n",
              "          element.innerHTML = '';\n",
              "          dataTable['output_type'] = 'display_data';\n",
              "          await google.colab.output.renderOutput(dataTable, element);\n",
              "          const docLink = document.createElement('div');\n",
              "          docLink.innerHTML = docLinkHtml;\n",
              "          element.appendChild(docLink);\n",
              "        }\n",
              "      </script>\n",
              "    </div>\n",
              "  </div>\n",
              "  "
            ]
          },
          "metadata": {},
          "execution_count": 83
        }
      ]
    },
    {
      "cell_type": "code",
      "source": [
        "X_q = dat.iloc[:,dat.columns != 'AverageBlockDelay']\n",
        "Y_q = dat.iloc[:,1]\n",
        "X_train, X_test, Y_train, Y_test = train_test_split(X_q, Y_q, test_size=0.2, random_state= 42)"
      ],
      "metadata": {
        "id": "aHOawWDYRZKB"
      },
      "execution_count": 84,
      "outputs": []
    },
    {
      "cell_type": "code",
      "source": [
        "model = LinearRegression()\n",
        "model.fit(X_train, Y_train)"
      ],
      "metadata": {
        "colab": {
          "base_uri": "https://localhost:8080/"
        },
        "id": "FxWBo2YyRf94",
        "outputId": "ccaf13bd-564e-48f9-8856-a5dd251105de"
      },
      "execution_count": 85,
      "outputs": [
        {
          "output_type": "execute_result",
          "data": {
            "text/plain": [
              "LinearRegression()"
            ]
          },
          "metadata": {},
          "execution_count": 85
        }
      ]
    },
    {
      "cell_type": "code",
      "source": [
        "print(\" Intercept value of Model is \" ,model.intercept_)\n",
        "\n",
        "coeff_df = pd.DataFrame(model.coef_,X_q.columns ,columns=['Coefficient'])\n",
        "print(coeff_df)"
      ],
      "metadata": {
        "colab": {
          "base_uri": "https://localhost:8080/"
        },
        "id": "PUtHUk-dTWep",
        "outputId": "f4692ef3-0c55-4327-d4d5-e3b1d7803766"
      },
      "execution_count": 86,
      "outputs": [
        {
          "output_type": "stream",
          "name": "stdout",
          "text": [
            " Intercept value of Model is  3.552713678800501e-15\n",
            "                          Coefficient\n",
            "AverageGateArrivalDelay  1.000000e+00\n",
            "quad                     1.798474e-18\n"
          ]
        }
      ]
    },
    {
      "cell_type": "code",
      "source": [
        "y_pred_q_q = model.predict(X_test)"
      ],
      "metadata": {
        "id": "PpD4pXfxTX2f"
      },
      "execution_count": 87,
      "outputs": []
    },
    {
      "cell_type": "code",
      "source": [
        "df_qm = pd.DataFrame({'Actual':Y_test, 'Predicted': y_pred_q_q})\n",
        "df_qm.head()"
      ],
      "metadata": {
        "colab": {
          "base_uri": "https://localhost:8080/",
          "height": 206
        },
        "id": "Lh8XAtSFTafQ",
        "outputId": "9770c033-54d7-4783-9484-1946f186d1f9"
      },
      "execution_count": 88,
      "outputs": [
        {
          "output_type": "execute_result",
          "data": {
            "text/plain": [
              "      Actual  Predicted\n",
              "1813    5.37       5.37\n",
              "1888    8.90       8.90\n",
              "1736    6.53       6.53\n",
              "438     6.43       6.43\n",
              "1792   14.16      14.16"
            ],
            "text/html": [
              "\n",
              "  <div id=\"df-e80ab50a-d057-4a17-b244-8474ea68beff\">\n",
              "    <div class=\"colab-df-container\">\n",
              "      <div>\n",
              "<style scoped>\n",
              "    .dataframe tbody tr th:only-of-type {\n",
              "        vertical-align: middle;\n",
              "    }\n",
              "\n",
              "    .dataframe tbody tr th {\n",
              "        vertical-align: top;\n",
              "    }\n",
              "\n",
              "    .dataframe thead th {\n",
              "        text-align: right;\n",
              "    }\n",
              "</style>\n",
              "<table border=\"1\" class=\"dataframe\">\n",
              "  <thead>\n",
              "    <tr style=\"text-align: right;\">\n",
              "      <th></th>\n",
              "      <th>Actual</th>\n",
              "      <th>Predicted</th>\n",
              "    </tr>\n",
              "  </thead>\n",
              "  <tbody>\n",
              "    <tr>\n",
              "      <th>1813</th>\n",
              "      <td>5.37</td>\n",
              "      <td>5.37</td>\n",
              "    </tr>\n",
              "    <tr>\n",
              "      <th>1888</th>\n",
              "      <td>8.90</td>\n",
              "      <td>8.90</td>\n",
              "    </tr>\n",
              "    <tr>\n",
              "      <th>1736</th>\n",
              "      <td>6.53</td>\n",
              "      <td>6.53</td>\n",
              "    </tr>\n",
              "    <tr>\n",
              "      <th>438</th>\n",
              "      <td>6.43</td>\n",
              "      <td>6.43</td>\n",
              "    </tr>\n",
              "    <tr>\n",
              "      <th>1792</th>\n",
              "      <td>14.16</td>\n",
              "      <td>14.16</td>\n",
              "    </tr>\n",
              "  </tbody>\n",
              "</table>\n",
              "</div>\n",
              "      <button class=\"colab-df-convert\" onclick=\"convertToInteractive('df-e80ab50a-d057-4a17-b244-8474ea68beff')\"\n",
              "              title=\"Convert this dataframe to an interactive table.\"\n",
              "              style=\"display:none;\">\n",
              "        \n",
              "  <svg xmlns=\"http://www.w3.org/2000/svg\" height=\"24px\"viewBox=\"0 0 24 24\"\n",
              "       width=\"24px\">\n",
              "    <path d=\"M0 0h24v24H0V0z\" fill=\"none\"/>\n",
              "    <path d=\"M18.56 5.44l.94 2.06.94-2.06 2.06-.94-2.06-.94-.94-2.06-.94 2.06-2.06.94zm-11 1L8.5 8.5l.94-2.06 2.06-.94-2.06-.94L8.5 2.5l-.94 2.06-2.06.94zm10 10l.94 2.06.94-2.06 2.06-.94-2.06-.94-.94-2.06-.94 2.06-2.06.94z\"/><path d=\"M17.41 7.96l-1.37-1.37c-.4-.4-.92-.59-1.43-.59-.52 0-1.04.2-1.43.59L10.3 9.45l-7.72 7.72c-.78.78-.78 2.05 0 2.83L4 21.41c.39.39.9.59 1.41.59.51 0 1.02-.2 1.41-.59l7.78-7.78 2.81-2.81c.8-.78.8-2.07 0-2.86zM5.41 20L4 18.59l7.72-7.72 1.47 1.35L5.41 20z\"/>\n",
              "  </svg>\n",
              "      </button>\n",
              "      \n",
              "  <style>\n",
              "    .colab-df-container {\n",
              "      display:flex;\n",
              "      flex-wrap:wrap;\n",
              "      gap: 12px;\n",
              "    }\n",
              "\n",
              "    .colab-df-convert {\n",
              "      background-color: #E8F0FE;\n",
              "      border: none;\n",
              "      border-radius: 50%;\n",
              "      cursor: pointer;\n",
              "      display: none;\n",
              "      fill: #1967D2;\n",
              "      height: 32px;\n",
              "      padding: 0 0 0 0;\n",
              "      width: 32px;\n",
              "    }\n",
              "\n",
              "    .colab-df-convert:hover {\n",
              "      background-color: #E2EBFA;\n",
              "      box-shadow: 0px 1px 2px rgba(60, 64, 67, 0.3), 0px 1px 3px 1px rgba(60, 64, 67, 0.15);\n",
              "      fill: #174EA6;\n",
              "    }\n",
              "\n",
              "    [theme=dark] .colab-df-convert {\n",
              "      background-color: #3B4455;\n",
              "      fill: #D2E3FC;\n",
              "    }\n",
              "\n",
              "    [theme=dark] .colab-df-convert:hover {\n",
              "      background-color: #434B5C;\n",
              "      box-shadow: 0px 1px 3px 1px rgba(0, 0, 0, 0.15);\n",
              "      filter: drop-shadow(0px 1px 2px rgba(0, 0, 0, 0.3));\n",
              "      fill: #FFFFFF;\n",
              "    }\n",
              "  </style>\n",
              "\n",
              "      <script>\n",
              "        const buttonEl =\n",
              "          document.querySelector('#df-e80ab50a-d057-4a17-b244-8474ea68beff button.colab-df-convert');\n",
              "        buttonEl.style.display =\n",
              "          google.colab.kernel.accessAllowed ? 'block' : 'none';\n",
              "\n",
              "        async function convertToInteractive(key) {\n",
              "          const element = document.querySelector('#df-e80ab50a-d057-4a17-b244-8474ea68beff');\n",
              "          const dataTable =\n",
              "            await google.colab.kernel.invokeFunction('convertToInteractive',\n",
              "                                                     [key], {});\n",
              "          if (!dataTable) return;\n",
              "\n",
              "          const docLinkHtml = 'Like what you see? Visit the ' +\n",
              "            '<a target=\"_blank\" href=https://colab.research.google.com/notebooks/data_table.ipynb>data table notebook</a>'\n",
              "            + ' to learn more about interactive tables.';\n",
              "          element.innerHTML = '';\n",
              "          dataTable['output_type'] = 'display_data';\n",
              "          await google.colab.output.renderOutput(dataTable, element);\n",
              "          const docLink = document.createElement('div');\n",
              "          docLink.innerHTML = docLinkHtml;\n",
              "          element.appendChild(docLink);\n",
              "        }\n",
              "      </script>\n",
              "    </div>\n",
              "  </div>\n",
              "  "
            ]
          },
          "metadata": {},
          "execution_count": 88
        }
      ]
    },
    {
      "cell_type": "code",
      "source": [
        "print('Mean Absolute Error:', metrics.mean_absolute_error(Y_test, y_pred_q_q))  \n",
        "print('Mean Squared Error:', metrics.mean_squared_error(Y_test, y_pred_q_q) ) \n",
        "print('Root Mean Squared Error:', np.sqrt(metrics.mean_squared_error(Y_test, y_pred_q_q)))\n",
        "print(\"R^2 Score :          \", metrics.r2_score(Y_test, y_pred_q_q))"
      ],
      "metadata": {
        "colab": {
          "base_uri": "https://localhost:8080/"
        },
        "id": "DHz70OqQTdNj",
        "outputId": "377322d7-dd8b-4745-b8b2-113455ee162e"
      },
      "execution_count": 89,
      "outputs": [
        {
          "output_type": "stream",
          "name": "stdout",
          "text": [
            "Mean Absolute Error: 2.8455901536563984e-15\n",
            "Mean Squared Error: 2.309250406496436e-29\n",
            "Root Mean Squared Error: 4.805466061160391e-15\n",
            "R^2 Score :           1.0\n"
          ]
        }
      ]
    },
    {
      "cell_type": "markdown",
      "source": [
        "# Question - 5"
      ],
      "metadata": {
        "id": "p8tyOYrAUN6u"
      }
    },
    {
      "cell_type": "markdown",
      "source": [
        "### Regularization Methods"
      ],
      "metadata": {
        "id": "cKCkD0WrUTum"
      }
    },
    {
      "cell_type": "markdown",
      "source": [
        "# f(x) = sin2 x + 2 cos x"
      ],
      "metadata": {
        "id": "9cTp4WuyUaiA"
      }
    },
    {
      "cell_type": "code",
      "source": [],
      "metadata": {
        "id": "n7Ln7f4AURPO"
      },
      "execution_count": null,
      "outputs": []
    }
  ]
}